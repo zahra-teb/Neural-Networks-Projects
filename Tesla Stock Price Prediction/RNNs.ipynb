{
  "cells": [
    {
      "cell_type": "markdown",
      "metadata": {
        "id": "view-in-github",
        "colab_type": "text"
      },
      "source": [
        "<a href=\"https://colab.research.google.com/github/zahra-teb/Neural-Networks-Projects/blob/main/Tesla%20Stock%20Price%20Prediction/RNNs.ipynb\" target=\"_parent\"><img src=\"https://colab.research.google.com/assets/colab-badge.svg\" alt=\"Open In Colab\"/></a>"
      ]
    },
    {
      "cell_type": "code",
      "execution_count": null,
      "metadata": {
        "id": "80lcwbUY1o4i"
      },
      "outputs": [],
      "source": [
        "import numpy as np\n",
        "import pandas as pd\n",
        "import matplotlib.pyplot as plt\n",
        "import seaborn as sns\n",
        "import torch\n",
        "import torch.nn as nn\n",
        "from torch.autograd import Variable\n",
        "from sklearn.preprocessing import MinMaxScaler, StandardScaler\n",
        "from sklearn.metrics import mean_absolute_error, mean_squared_error, r2_score"
      ]
    },
    {
      "cell_type": "code",
      "execution_count": null,
      "metadata": {
        "id": "bHoWnutW2Zii"
      },
      "outputs": [],
      "source": [
        "import warnings\n",
        "warnings.filterwarnings('ignore')"
      ]
    },
    {
      "cell_type": "code",
      "execution_count": null,
      "metadata": {
        "colab": {
          "base_uri": "https://localhost:8080/"
        },
        "id": "hphd37zX2g-T",
        "outputId": "83d9ee9b-bd82-4f1c-e0fc-e83f5f29bddd"
      },
      "outputs": [
        {
          "output_type": "stream",
          "name": "stdout",
          "text": [
            "Mounted at /content/drive\n"
          ]
        }
      ],
      "source": [
        "from google.colab import drive\n",
        "drive.mount('/content/drive')"
      ]
    },
    {
      "cell_type": "code",
      "execution_count": null,
      "metadata": {
        "id": "ttH4wmhZ2lQC"
      },
      "outputs": [],
      "source": [
        "import os\n",
        "os.environ['KAGGLE_CONFIG_DIR'] = \"/content/drive/MyDrive\""
      ]
    },
    {
      "cell_type": "code",
      "execution_count": null,
      "metadata": {
        "id": "8n9N0l172vFM"
      },
      "outputs": [],
      "source": [
        "!cd /content/drive/MyDrive/"
      ]
    },
    {
      "cell_type": "code",
      "execution_count": null,
      "metadata": {
        "colab": {
          "base_uri": "https://localhost:8080/"
        },
        "id": "a1X-vMoR2xFR",
        "outputId": "f11acc95-cff1-40e3-b4b0-df01f3ca3c18"
      },
      "outputs": [
        {
          "output_type": "stream",
          "name": "stdout",
          "text": [
            "Downloading tesla-stock-data-20162021.zip to /content\n",
            "\r  0% 0.00/27.2k [00:00<?, ?B/s]\n",
            "\r100% 27.2k/27.2k [00:00<00:00, 53.6MB/s]\n"
          ]
        }
      ],
      "source": [
        "!kaggle datasets download -d ysthehurricane/tesla-stock-data-20162021"
      ]
    },
    {
      "cell_type": "code",
      "execution_count": null,
      "metadata": {
        "id": "nAqVzNK024tF"
      },
      "outputs": [],
      "source": [
        "!mkdir data"
      ]
    },
    {
      "cell_type": "code",
      "execution_count": null,
      "metadata": {
        "colab": {
          "base_uri": "https://localhost:8080/"
        },
        "id": "0IAjBhDF3BCT",
        "outputId": "d882f04a-ad1a-420f-bd11-12ab228738a5"
      },
      "outputs": [
        {
          "output_type": "stream",
          "name": "stdout",
          "text": [
            "Archive:  tesla-stock-data-20162021.zip\n",
            "  inflating: data/TSLA.csv           \n"
          ]
        }
      ],
      "source": [
        "!unzip tesla-stock-data-20162021.zip -d data"
      ]
    },
    {
      "cell_type": "code",
      "execution_count": null,
      "metadata": {
        "colab": {
          "base_uri": "https://localhost:8080/",
          "height": 424
        },
        "id": "JiGua6ag3G4L",
        "outputId": "329f0614-29bd-4176-ccff-b0f061847bd5"
      },
      "outputs": [
        {
          "output_type": "execute_result",
          "data": {
            "text/plain": [
              "            Date        Open        High         Low       Close   Adj Close  \\\n",
              "0     2016-08-16   45.098000   45.438000   44.681999   44.722000   44.722000   \n",
              "1     2016-08-17   44.866001   44.966000   44.560001   44.647999   44.647999   \n",
              "2     2016-08-18   44.764000   45.132000   44.458000   44.702000   44.702000   \n",
              "3     2016-08-19   44.708000   45.034000   44.506001   45.000000   45.000000   \n",
              "4     2016-08-22   44.834000   45.021999   44.535999   44.585999   44.585999   \n",
              "...          ...         ...         ...         ...         ...         ...   \n",
              "1253  2021-08-09  710.169983  719.030029  705.130005  713.760010  713.760010   \n",
              "1254  2021-08-10  713.989990  716.590027  701.880005  709.989990  709.989990   \n",
              "1255  2021-08-11  712.710022  715.179993  704.210022  707.820007  707.820007   \n",
              "1256  2021-08-12  706.340027  722.799988  699.400024  722.250000  722.250000   \n",
              "1257  2021-08-13  723.710022  729.900024  714.340027  717.169983  717.169983   \n",
              "\n",
              "        Volume  \n",
              "0     11335500  \n",
              "1      8935500  \n",
              "2      8572500  \n",
              "3      8297500  \n",
              "4     10327500  \n",
              "...        ...  \n",
              "1253  14715300  \n",
              "1254  13432300  \n",
              "1255   9800600  \n",
              "1256  17459100  \n",
              "1257  16698900  \n",
              "\n",
              "[1258 rows x 7 columns]"
            ],
            "text/html": [
              "\n",
              "  <div id=\"df-62e93b79-a79d-4ad9-9ada-85aa49222196\">\n",
              "    <div class=\"colab-df-container\">\n",
              "      <div>\n",
              "<style scoped>\n",
              "    .dataframe tbody tr th:only-of-type {\n",
              "        vertical-align: middle;\n",
              "    }\n",
              "\n",
              "    .dataframe tbody tr th {\n",
              "        vertical-align: top;\n",
              "    }\n",
              "\n",
              "    .dataframe thead th {\n",
              "        text-align: right;\n",
              "    }\n",
              "</style>\n",
              "<table border=\"1\" class=\"dataframe\">\n",
              "  <thead>\n",
              "    <tr style=\"text-align: right;\">\n",
              "      <th></th>\n",
              "      <th>Date</th>\n",
              "      <th>Open</th>\n",
              "      <th>High</th>\n",
              "      <th>Low</th>\n",
              "      <th>Close</th>\n",
              "      <th>Adj Close</th>\n",
              "      <th>Volume</th>\n",
              "    </tr>\n",
              "  </thead>\n",
              "  <tbody>\n",
              "    <tr>\n",
              "      <th>0</th>\n",
              "      <td>2016-08-16</td>\n",
              "      <td>45.098000</td>\n",
              "      <td>45.438000</td>\n",
              "      <td>44.681999</td>\n",
              "      <td>44.722000</td>\n",
              "      <td>44.722000</td>\n",
              "      <td>11335500</td>\n",
              "    </tr>\n",
              "    <tr>\n",
              "      <th>1</th>\n",
              "      <td>2016-08-17</td>\n",
              "      <td>44.866001</td>\n",
              "      <td>44.966000</td>\n",
              "      <td>44.560001</td>\n",
              "      <td>44.647999</td>\n",
              "      <td>44.647999</td>\n",
              "      <td>8935500</td>\n",
              "    </tr>\n",
              "    <tr>\n",
              "      <th>2</th>\n",
              "      <td>2016-08-18</td>\n",
              "      <td>44.764000</td>\n",
              "      <td>45.132000</td>\n",
              "      <td>44.458000</td>\n",
              "      <td>44.702000</td>\n",
              "      <td>44.702000</td>\n",
              "      <td>8572500</td>\n",
              "    </tr>\n",
              "    <tr>\n",
              "      <th>3</th>\n",
              "      <td>2016-08-19</td>\n",
              "      <td>44.708000</td>\n",
              "      <td>45.034000</td>\n",
              "      <td>44.506001</td>\n",
              "      <td>45.000000</td>\n",
              "      <td>45.000000</td>\n",
              "      <td>8297500</td>\n",
              "    </tr>\n",
              "    <tr>\n",
              "      <th>4</th>\n",
              "      <td>2016-08-22</td>\n",
              "      <td>44.834000</td>\n",
              "      <td>45.021999</td>\n",
              "      <td>44.535999</td>\n",
              "      <td>44.585999</td>\n",
              "      <td>44.585999</td>\n",
              "      <td>10327500</td>\n",
              "    </tr>\n",
              "    <tr>\n",
              "      <th>...</th>\n",
              "      <td>...</td>\n",
              "      <td>...</td>\n",
              "      <td>...</td>\n",
              "      <td>...</td>\n",
              "      <td>...</td>\n",
              "      <td>...</td>\n",
              "      <td>...</td>\n",
              "    </tr>\n",
              "    <tr>\n",
              "      <th>1253</th>\n",
              "      <td>2021-08-09</td>\n",
              "      <td>710.169983</td>\n",
              "      <td>719.030029</td>\n",
              "      <td>705.130005</td>\n",
              "      <td>713.760010</td>\n",
              "      <td>713.760010</td>\n",
              "      <td>14715300</td>\n",
              "    </tr>\n",
              "    <tr>\n",
              "      <th>1254</th>\n",
              "      <td>2021-08-10</td>\n",
              "      <td>713.989990</td>\n",
              "      <td>716.590027</td>\n",
              "      <td>701.880005</td>\n",
              "      <td>709.989990</td>\n",
              "      <td>709.989990</td>\n",
              "      <td>13432300</td>\n",
              "    </tr>\n",
              "    <tr>\n",
              "      <th>1255</th>\n",
              "      <td>2021-08-11</td>\n",
              "      <td>712.710022</td>\n",
              "      <td>715.179993</td>\n",
              "      <td>704.210022</td>\n",
              "      <td>707.820007</td>\n",
              "      <td>707.820007</td>\n",
              "      <td>9800600</td>\n",
              "    </tr>\n",
              "    <tr>\n",
              "      <th>1256</th>\n",
              "      <td>2021-08-12</td>\n",
              "      <td>706.340027</td>\n",
              "      <td>722.799988</td>\n",
              "      <td>699.400024</td>\n",
              "      <td>722.250000</td>\n",
              "      <td>722.250000</td>\n",
              "      <td>17459100</td>\n",
              "    </tr>\n",
              "    <tr>\n",
              "      <th>1257</th>\n",
              "      <td>2021-08-13</td>\n",
              "      <td>723.710022</td>\n",
              "      <td>729.900024</td>\n",
              "      <td>714.340027</td>\n",
              "      <td>717.169983</td>\n",
              "      <td>717.169983</td>\n",
              "      <td>16698900</td>\n",
              "    </tr>\n",
              "  </tbody>\n",
              "</table>\n",
              "<p>1258 rows × 7 columns</p>\n",
              "</div>\n",
              "      <button class=\"colab-df-convert\" onclick=\"convertToInteractive('df-62e93b79-a79d-4ad9-9ada-85aa49222196')\"\n",
              "              title=\"Convert this dataframe to an interactive table.\"\n",
              "              style=\"display:none;\">\n",
              "        \n",
              "  <svg xmlns=\"http://www.w3.org/2000/svg\" height=\"24px\"viewBox=\"0 0 24 24\"\n",
              "       width=\"24px\">\n",
              "    <path d=\"M0 0h24v24H0V0z\" fill=\"none\"/>\n",
              "    <path d=\"M18.56 5.44l.94 2.06.94-2.06 2.06-.94-2.06-.94-.94-2.06-.94 2.06-2.06.94zm-11 1L8.5 8.5l.94-2.06 2.06-.94-2.06-.94L8.5 2.5l-.94 2.06-2.06.94zm10 10l.94 2.06.94-2.06 2.06-.94-2.06-.94-.94-2.06-.94 2.06-2.06.94z\"/><path d=\"M17.41 7.96l-1.37-1.37c-.4-.4-.92-.59-1.43-.59-.52 0-1.04.2-1.43.59L10.3 9.45l-7.72 7.72c-.78.78-.78 2.05 0 2.83L4 21.41c.39.39.9.59 1.41.59.51 0 1.02-.2 1.41-.59l7.78-7.78 2.81-2.81c.8-.78.8-2.07 0-2.86zM5.41 20L4 18.59l7.72-7.72 1.47 1.35L5.41 20z\"/>\n",
              "  </svg>\n",
              "      </button>\n",
              "      \n",
              "  <style>\n",
              "    .colab-df-container {\n",
              "      display:flex;\n",
              "      flex-wrap:wrap;\n",
              "      gap: 12px;\n",
              "    }\n",
              "\n",
              "    .colab-df-convert {\n",
              "      background-color: #E8F0FE;\n",
              "      border: none;\n",
              "      border-radius: 50%;\n",
              "      cursor: pointer;\n",
              "      display: none;\n",
              "      fill: #1967D2;\n",
              "      height: 32px;\n",
              "      padding: 0 0 0 0;\n",
              "      width: 32px;\n",
              "    }\n",
              "\n",
              "    .colab-df-convert:hover {\n",
              "      background-color: #E2EBFA;\n",
              "      box-shadow: 0px 1px 2px rgba(60, 64, 67, 0.3), 0px 1px 3px 1px rgba(60, 64, 67, 0.15);\n",
              "      fill: #174EA6;\n",
              "    }\n",
              "\n",
              "    [theme=dark] .colab-df-convert {\n",
              "      background-color: #3B4455;\n",
              "      fill: #D2E3FC;\n",
              "    }\n",
              "\n",
              "    [theme=dark] .colab-df-convert:hover {\n",
              "      background-color: #434B5C;\n",
              "      box-shadow: 0px 1px 3px 1px rgba(0, 0, 0, 0.15);\n",
              "      filter: drop-shadow(0px 1px 2px rgba(0, 0, 0, 0.3));\n",
              "      fill: #FFFFFF;\n",
              "    }\n",
              "  </style>\n",
              "\n",
              "      <script>\n",
              "        const buttonEl =\n",
              "          document.querySelector('#df-62e93b79-a79d-4ad9-9ada-85aa49222196 button.colab-df-convert');\n",
              "        buttonEl.style.display =\n",
              "          google.colab.kernel.accessAllowed ? 'block' : 'none';\n",
              "\n",
              "        async function convertToInteractive(key) {\n",
              "          const element = document.querySelector('#df-62e93b79-a79d-4ad9-9ada-85aa49222196');\n",
              "          const dataTable =\n",
              "            await google.colab.kernel.invokeFunction('convertToInteractive',\n",
              "                                                     [key], {});\n",
              "          if (!dataTable) return;\n",
              "\n",
              "          const docLinkHtml = 'Like what you see? Visit the ' +\n",
              "            '<a target=\"_blank\" href=https://colab.research.google.com/notebooks/data_table.ipynb>data table notebook</a>'\n",
              "            + ' to learn more about interactive tables.';\n",
              "          element.innerHTML = '';\n",
              "          dataTable['output_type'] = 'display_data';\n",
              "          await google.colab.output.renderOutput(dataTable, element);\n",
              "          const docLink = document.createElement('div');\n",
              "          docLink.innerHTML = docLinkHtml;\n",
              "          element.appendChild(docLink);\n",
              "        }\n",
              "      </script>\n",
              "    </div>\n",
              "  </div>\n",
              "  "
            ]
          },
          "metadata": {},
          "execution_count": 9
        }
      ],
      "source": [
        "df = pd.read_csv('/content/data/TSLA.csv')\n",
        "df"
      ]
    },
    {
      "cell_type": "code",
      "execution_count": null,
      "metadata": {
        "colab": {
          "base_uri": "https://localhost:8080/"
        },
        "id": "RhirLWVY3U7t",
        "outputId": "80eb1c00-6ae1-42b4-9a2e-ac3442c3266e"
      },
      "outputs": [
        {
          "output_type": "execute_result",
          "data": {
            "text/plain": [
              "Date         0\n",
              "Open         0\n",
              "High         0\n",
              "Low          0\n",
              "Close        0\n",
              "Adj Close    0\n",
              "Volume       0\n",
              "dtype: int64"
            ]
          },
          "metadata": {},
          "execution_count": 10
        }
      ],
      "source": [
        "df.isnull().sum()"
      ]
    },
    {
      "cell_type": "markdown",
      "metadata": {
        "id": "SfitWmxWXKiZ"
      },
      "source": [
        "No missing values!"
      ]
    },
    {
      "cell_type": "code",
      "execution_count": null,
      "metadata": {
        "colab": {
          "base_uri": "https://localhost:8080/"
        },
        "id": "3tvaoLDRnv9-",
        "outputId": "c704111e-8f98-4584-b47a-fe1d3b226e40"
      },
      "outputs": [
        {
          "output_type": "execute_result",
          "data": {
            "text/plain": [
              "0.0"
            ]
          },
          "metadata": {},
          "execution_count": 11
        }
      ],
      "source": [
        "sum(df['Close'] - df['Adj Close'])"
      ]
    },
    {
      "cell_type": "code",
      "execution_count": null,
      "metadata": {
        "colab": {
          "base_uri": "https://localhost:8080/",
          "height": 424
        },
        "id": "rTrsI-8en5VT",
        "outputId": "6c5315ff-f46d-489e-88c3-1b6f3d875d83"
      },
      "outputs": [
        {
          "output_type": "execute_result",
          "data": {
            "text/plain": [
              "            Date        Open        High         Low       Close    Volume\n",
              "0     2016-08-16   45.098000   45.438000   44.681999   44.722000  11335500\n",
              "1     2016-08-17   44.866001   44.966000   44.560001   44.647999   8935500\n",
              "2     2016-08-18   44.764000   45.132000   44.458000   44.702000   8572500\n",
              "3     2016-08-19   44.708000   45.034000   44.506001   45.000000   8297500\n",
              "4     2016-08-22   44.834000   45.021999   44.535999   44.585999  10327500\n",
              "...          ...         ...         ...         ...         ...       ...\n",
              "1253  2021-08-09  710.169983  719.030029  705.130005  713.760010  14715300\n",
              "1254  2021-08-10  713.989990  716.590027  701.880005  709.989990  13432300\n",
              "1255  2021-08-11  712.710022  715.179993  704.210022  707.820007   9800600\n",
              "1256  2021-08-12  706.340027  722.799988  699.400024  722.250000  17459100\n",
              "1257  2021-08-13  723.710022  729.900024  714.340027  717.169983  16698900\n",
              "\n",
              "[1258 rows x 6 columns]"
            ],
            "text/html": [
              "\n",
              "  <div id=\"df-552cbecc-2df9-4bba-bba3-bb6e4a364bd4\">\n",
              "    <div class=\"colab-df-container\">\n",
              "      <div>\n",
              "<style scoped>\n",
              "    .dataframe tbody tr th:only-of-type {\n",
              "        vertical-align: middle;\n",
              "    }\n",
              "\n",
              "    .dataframe tbody tr th {\n",
              "        vertical-align: top;\n",
              "    }\n",
              "\n",
              "    .dataframe thead th {\n",
              "        text-align: right;\n",
              "    }\n",
              "</style>\n",
              "<table border=\"1\" class=\"dataframe\">\n",
              "  <thead>\n",
              "    <tr style=\"text-align: right;\">\n",
              "      <th></th>\n",
              "      <th>Date</th>\n",
              "      <th>Open</th>\n",
              "      <th>High</th>\n",
              "      <th>Low</th>\n",
              "      <th>Close</th>\n",
              "      <th>Volume</th>\n",
              "    </tr>\n",
              "  </thead>\n",
              "  <tbody>\n",
              "    <tr>\n",
              "      <th>0</th>\n",
              "      <td>2016-08-16</td>\n",
              "      <td>45.098000</td>\n",
              "      <td>45.438000</td>\n",
              "      <td>44.681999</td>\n",
              "      <td>44.722000</td>\n",
              "      <td>11335500</td>\n",
              "    </tr>\n",
              "    <tr>\n",
              "      <th>1</th>\n",
              "      <td>2016-08-17</td>\n",
              "      <td>44.866001</td>\n",
              "      <td>44.966000</td>\n",
              "      <td>44.560001</td>\n",
              "      <td>44.647999</td>\n",
              "      <td>8935500</td>\n",
              "    </tr>\n",
              "    <tr>\n",
              "      <th>2</th>\n",
              "      <td>2016-08-18</td>\n",
              "      <td>44.764000</td>\n",
              "      <td>45.132000</td>\n",
              "      <td>44.458000</td>\n",
              "      <td>44.702000</td>\n",
              "      <td>8572500</td>\n",
              "    </tr>\n",
              "    <tr>\n",
              "      <th>3</th>\n",
              "      <td>2016-08-19</td>\n",
              "      <td>44.708000</td>\n",
              "      <td>45.034000</td>\n",
              "      <td>44.506001</td>\n",
              "      <td>45.000000</td>\n",
              "      <td>8297500</td>\n",
              "    </tr>\n",
              "    <tr>\n",
              "      <th>4</th>\n",
              "      <td>2016-08-22</td>\n",
              "      <td>44.834000</td>\n",
              "      <td>45.021999</td>\n",
              "      <td>44.535999</td>\n",
              "      <td>44.585999</td>\n",
              "      <td>10327500</td>\n",
              "    </tr>\n",
              "    <tr>\n",
              "      <th>...</th>\n",
              "      <td>...</td>\n",
              "      <td>...</td>\n",
              "      <td>...</td>\n",
              "      <td>...</td>\n",
              "      <td>...</td>\n",
              "      <td>...</td>\n",
              "    </tr>\n",
              "    <tr>\n",
              "      <th>1253</th>\n",
              "      <td>2021-08-09</td>\n",
              "      <td>710.169983</td>\n",
              "      <td>719.030029</td>\n",
              "      <td>705.130005</td>\n",
              "      <td>713.760010</td>\n",
              "      <td>14715300</td>\n",
              "    </tr>\n",
              "    <tr>\n",
              "      <th>1254</th>\n",
              "      <td>2021-08-10</td>\n",
              "      <td>713.989990</td>\n",
              "      <td>716.590027</td>\n",
              "      <td>701.880005</td>\n",
              "      <td>709.989990</td>\n",
              "      <td>13432300</td>\n",
              "    </tr>\n",
              "    <tr>\n",
              "      <th>1255</th>\n",
              "      <td>2021-08-11</td>\n",
              "      <td>712.710022</td>\n",
              "      <td>715.179993</td>\n",
              "      <td>704.210022</td>\n",
              "      <td>707.820007</td>\n",
              "      <td>9800600</td>\n",
              "    </tr>\n",
              "    <tr>\n",
              "      <th>1256</th>\n",
              "      <td>2021-08-12</td>\n",
              "      <td>706.340027</td>\n",
              "      <td>722.799988</td>\n",
              "      <td>699.400024</td>\n",
              "      <td>722.250000</td>\n",
              "      <td>17459100</td>\n",
              "    </tr>\n",
              "    <tr>\n",
              "      <th>1257</th>\n",
              "      <td>2021-08-13</td>\n",
              "      <td>723.710022</td>\n",
              "      <td>729.900024</td>\n",
              "      <td>714.340027</td>\n",
              "      <td>717.169983</td>\n",
              "      <td>16698900</td>\n",
              "    </tr>\n",
              "  </tbody>\n",
              "</table>\n",
              "<p>1258 rows × 6 columns</p>\n",
              "</div>\n",
              "      <button class=\"colab-df-convert\" onclick=\"convertToInteractive('df-552cbecc-2df9-4bba-bba3-bb6e4a364bd4')\"\n",
              "              title=\"Convert this dataframe to an interactive table.\"\n",
              "              style=\"display:none;\">\n",
              "        \n",
              "  <svg xmlns=\"http://www.w3.org/2000/svg\" height=\"24px\"viewBox=\"0 0 24 24\"\n",
              "       width=\"24px\">\n",
              "    <path d=\"M0 0h24v24H0V0z\" fill=\"none\"/>\n",
              "    <path d=\"M18.56 5.44l.94 2.06.94-2.06 2.06-.94-2.06-.94-.94-2.06-.94 2.06-2.06.94zm-11 1L8.5 8.5l.94-2.06 2.06-.94-2.06-.94L8.5 2.5l-.94 2.06-2.06.94zm10 10l.94 2.06.94-2.06 2.06-.94-2.06-.94-.94-2.06-.94 2.06-2.06.94z\"/><path d=\"M17.41 7.96l-1.37-1.37c-.4-.4-.92-.59-1.43-.59-.52 0-1.04.2-1.43.59L10.3 9.45l-7.72 7.72c-.78.78-.78 2.05 0 2.83L4 21.41c.39.39.9.59 1.41.59.51 0 1.02-.2 1.41-.59l7.78-7.78 2.81-2.81c.8-.78.8-2.07 0-2.86zM5.41 20L4 18.59l7.72-7.72 1.47 1.35L5.41 20z\"/>\n",
              "  </svg>\n",
              "      </button>\n",
              "      \n",
              "  <style>\n",
              "    .colab-df-container {\n",
              "      display:flex;\n",
              "      flex-wrap:wrap;\n",
              "      gap: 12px;\n",
              "    }\n",
              "\n",
              "    .colab-df-convert {\n",
              "      background-color: #E8F0FE;\n",
              "      border: none;\n",
              "      border-radius: 50%;\n",
              "      cursor: pointer;\n",
              "      display: none;\n",
              "      fill: #1967D2;\n",
              "      height: 32px;\n",
              "      padding: 0 0 0 0;\n",
              "      width: 32px;\n",
              "    }\n",
              "\n",
              "    .colab-df-convert:hover {\n",
              "      background-color: #E2EBFA;\n",
              "      box-shadow: 0px 1px 2px rgba(60, 64, 67, 0.3), 0px 1px 3px 1px rgba(60, 64, 67, 0.15);\n",
              "      fill: #174EA6;\n",
              "    }\n",
              "\n",
              "    [theme=dark] .colab-df-convert {\n",
              "      background-color: #3B4455;\n",
              "      fill: #D2E3FC;\n",
              "    }\n",
              "\n",
              "    [theme=dark] .colab-df-convert:hover {\n",
              "      background-color: #434B5C;\n",
              "      box-shadow: 0px 1px 3px 1px rgba(0, 0, 0, 0.15);\n",
              "      filter: drop-shadow(0px 1px 2px rgba(0, 0, 0, 0.3));\n",
              "      fill: #FFFFFF;\n",
              "    }\n",
              "  </style>\n",
              "\n",
              "      <script>\n",
              "        const buttonEl =\n",
              "          document.querySelector('#df-552cbecc-2df9-4bba-bba3-bb6e4a364bd4 button.colab-df-convert');\n",
              "        buttonEl.style.display =\n",
              "          google.colab.kernel.accessAllowed ? 'block' : 'none';\n",
              "\n",
              "        async function convertToInteractive(key) {\n",
              "          const element = document.querySelector('#df-552cbecc-2df9-4bba-bba3-bb6e4a364bd4');\n",
              "          const dataTable =\n",
              "            await google.colab.kernel.invokeFunction('convertToInteractive',\n",
              "                                                     [key], {});\n",
              "          if (!dataTable) return;\n",
              "\n",
              "          const docLinkHtml = 'Like what you see? Visit the ' +\n",
              "            '<a target=\"_blank\" href=https://colab.research.google.com/notebooks/data_table.ipynb>data table notebook</a>'\n",
              "            + ' to learn more about interactive tables.';\n",
              "          element.innerHTML = '';\n",
              "          dataTable['output_type'] = 'display_data';\n",
              "          await google.colab.output.renderOutput(dataTable, element);\n",
              "          const docLink = document.createElement('div');\n",
              "          docLink.innerHTML = docLinkHtml;\n",
              "          element.appendChild(docLink);\n",
              "        }\n",
              "      </script>\n",
              "    </div>\n",
              "  </div>\n",
              "  "
            ]
          },
          "metadata": {},
          "execution_count": 12
        }
      ],
      "source": [
        "df.drop('Adj Close',axis=1,inplace=True)\n",
        "df"
      ]
    },
    {
      "cell_type": "code",
      "execution_count": null,
      "metadata": {
        "colab": {
          "base_uri": "https://localhost:8080/",
          "height": 424
        },
        "id": "0wOehK-7XiuZ",
        "outputId": "dc2de5b7-73c0-47ab-91fa-9521e601f0ba"
      },
      "outputs": [
        {
          "output_type": "execute_result",
          "data": {
            "text/plain": [
              "           Date        Open        High         Low       Close    Volume\n",
              "0    2016-08-16   45.098000   45.438000   44.681999   44.722000  11335500\n",
              "1    2016-08-17   44.866001   44.966000   44.560001   44.647999   8935500\n",
              "2    2016-08-18   44.764000   45.132000   44.458000   44.702000   8572500\n",
              "3    2016-08-19   44.708000   45.034000   44.506001   45.000000   8297500\n",
              "4    2016-08-22   44.834000   45.021999   44.535999   44.585999  10327500\n",
              "...         ...         ...         ...         ...         ...       ...\n",
              "1253 2021-08-09  710.169983  719.030029  705.130005  713.760010  14715300\n",
              "1254 2021-08-10  713.989990  716.590027  701.880005  709.989990  13432300\n",
              "1255 2021-08-11  712.710022  715.179993  704.210022  707.820007   9800600\n",
              "1256 2021-08-12  706.340027  722.799988  699.400024  722.250000  17459100\n",
              "1257 2021-08-13  723.710022  729.900024  714.340027  717.169983  16698900\n",
              "\n",
              "[1258 rows x 6 columns]"
            ],
            "text/html": [
              "\n",
              "  <div id=\"df-7d6653f5-565d-4417-8e43-820c64b106db\">\n",
              "    <div class=\"colab-df-container\">\n",
              "      <div>\n",
              "<style scoped>\n",
              "    .dataframe tbody tr th:only-of-type {\n",
              "        vertical-align: middle;\n",
              "    }\n",
              "\n",
              "    .dataframe tbody tr th {\n",
              "        vertical-align: top;\n",
              "    }\n",
              "\n",
              "    .dataframe thead th {\n",
              "        text-align: right;\n",
              "    }\n",
              "</style>\n",
              "<table border=\"1\" class=\"dataframe\">\n",
              "  <thead>\n",
              "    <tr style=\"text-align: right;\">\n",
              "      <th></th>\n",
              "      <th>Date</th>\n",
              "      <th>Open</th>\n",
              "      <th>High</th>\n",
              "      <th>Low</th>\n",
              "      <th>Close</th>\n",
              "      <th>Volume</th>\n",
              "    </tr>\n",
              "  </thead>\n",
              "  <tbody>\n",
              "    <tr>\n",
              "      <th>0</th>\n",
              "      <td>2016-08-16</td>\n",
              "      <td>45.098000</td>\n",
              "      <td>45.438000</td>\n",
              "      <td>44.681999</td>\n",
              "      <td>44.722000</td>\n",
              "      <td>11335500</td>\n",
              "    </tr>\n",
              "    <tr>\n",
              "      <th>1</th>\n",
              "      <td>2016-08-17</td>\n",
              "      <td>44.866001</td>\n",
              "      <td>44.966000</td>\n",
              "      <td>44.560001</td>\n",
              "      <td>44.647999</td>\n",
              "      <td>8935500</td>\n",
              "    </tr>\n",
              "    <tr>\n",
              "      <th>2</th>\n",
              "      <td>2016-08-18</td>\n",
              "      <td>44.764000</td>\n",
              "      <td>45.132000</td>\n",
              "      <td>44.458000</td>\n",
              "      <td>44.702000</td>\n",
              "      <td>8572500</td>\n",
              "    </tr>\n",
              "    <tr>\n",
              "      <th>3</th>\n",
              "      <td>2016-08-19</td>\n",
              "      <td>44.708000</td>\n",
              "      <td>45.034000</td>\n",
              "      <td>44.506001</td>\n",
              "      <td>45.000000</td>\n",
              "      <td>8297500</td>\n",
              "    </tr>\n",
              "    <tr>\n",
              "      <th>4</th>\n",
              "      <td>2016-08-22</td>\n",
              "      <td>44.834000</td>\n",
              "      <td>45.021999</td>\n",
              "      <td>44.535999</td>\n",
              "      <td>44.585999</td>\n",
              "      <td>10327500</td>\n",
              "    </tr>\n",
              "    <tr>\n",
              "      <th>...</th>\n",
              "      <td>...</td>\n",
              "      <td>...</td>\n",
              "      <td>...</td>\n",
              "      <td>...</td>\n",
              "      <td>...</td>\n",
              "      <td>...</td>\n",
              "    </tr>\n",
              "    <tr>\n",
              "      <th>1253</th>\n",
              "      <td>2021-08-09</td>\n",
              "      <td>710.169983</td>\n",
              "      <td>719.030029</td>\n",
              "      <td>705.130005</td>\n",
              "      <td>713.760010</td>\n",
              "      <td>14715300</td>\n",
              "    </tr>\n",
              "    <tr>\n",
              "      <th>1254</th>\n",
              "      <td>2021-08-10</td>\n",
              "      <td>713.989990</td>\n",
              "      <td>716.590027</td>\n",
              "      <td>701.880005</td>\n",
              "      <td>709.989990</td>\n",
              "      <td>13432300</td>\n",
              "    </tr>\n",
              "    <tr>\n",
              "      <th>1255</th>\n",
              "      <td>2021-08-11</td>\n",
              "      <td>712.710022</td>\n",
              "      <td>715.179993</td>\n",
              "      <td>704.210022</td>\n",
              "      <td>707.820007</td>\n",
              "      <td>9800600</td>\n",
              "    </tr>\n",
              "    <tr>\n",
              "      <th>1256</th>\n",
              "      <td>2021-08-12</td>\n",
              "      <td>706.340027</td>\n",
              "      <td>722.799988</td>\n",
              "      <td>699.400024</td>\n",
              "      <td>722.250000</td>\n",
              "      <td>17459100</td>\n",
              "    </tr>\n",
              "    <tr>\n",
              "      <th>1257</th>\n",
              "      <td>2021-08-13</td>\n",
              "      <td>723.710022</td>\n",
              "      <td>729.900024</td>\n",
              "      <td>714.340027</td>\n",
              "      <td>717.169983</td>\n",
              "      <td>16698900</td>\n",
              "    </tr>\n",
              "  </tbody>\n",
              "</table>\n",
              "<p>1258 rows × 6 columns</p>\n",
              "</div>\n",
              "      <button class=\"colab-df-convert\" onclick=\"convertToInteractive('df-7d6653f5-565d-4417-8e43-820c64b106db')\"\n",
              "              title=\"Convert this dataframe to an interactive table.\"\n",
              "              style=\"display:none;\">\n",
              "        \n",
              "  <svg xmlns=\"http://www.w3.org/2000/svg\" height=\"24px\"viewBox=\"0 0 24 24\"\n",
              "       width=\"24px\">\n",
              "    <path d=\"M0 0h24v24H0V0z\" fill=\"none\"/>\n",
              "    <path d=\"M18.56 5.44l.94 2.06.94-2.06 2.06-.94-2.06-.94-.94-2.06-.94 2.06-2.06.94zm-11 1L8.5 8.5l.94-2.06 2.06-.94-2.06-.94L8.5 2.5l-.94 2.06-2.06.94zm10 10l.94 2.06.94-2.06 2.06-.94-2.06-.94-.94-2.06-.94 2.06-2.06.94z\"/><path d=\"M17.41 7.96l-1.37-1.37c-.4-.4-.92-.59-1.43-.59-.52 0-1.04.2-1.43.59L10.3 9.45l-7.72 7.72c-.78.78-.78 2.05 0 2.83L4 21.41c.39.39.9.59 1.41.59.51 0 1.02-.2 1.41-.59l7.78-7.78 2.81-2.81c.8-.78.8-2.07 0-2.86zM5.41 20L4 18.59l7.72-7.72 1.47 1.35L5.41 20z\"/>\n",
              "  </svg>\n",
              "      </button>\n",
              "      \n",
              "  <style>\n",
              "    .colab-df-container {\n",
              "      display:flex;\n",
              "      flex-wrap:wrap;\n",
              "      gap: 12px;\n",
              "    }\n",
              "\n",
              "    .colab-df-convert {\n",
              "      background-color: #E8F0FE;\n",
              "      border: none;\n",
              "      border-radius: 50%;\n",
              "      cursor: pointer;\n",
              "      display: none;\n",
              "      fill: #1967D2;\n",
              "      height: 32px;\n",
              "      padding: 0 0 0 0;\n",
              "      width: 32px;\n",
              "    }\n",
              "\n",
              "    .colab-df-convert:hover {\n",
              "      background-color: #E2EBFA;\n",
              "      box-shadow: 0px 1px 2px rgba(60, 64, 67, 0.3), 0px 1px 3px 1px rgba(60, 64, 67, 0.15);\n",
              "      fill: #174EA6;\n",
              "    }\n",
              "\n",
              "    [theme=dark] .colab-df-convert {\n",
              "      background-color: #3B4455;\n",
              "      fill: #D2E3FC;\n",
              "    }\n",
              "\n",
              "    [theme=dark] .colab-df-convert:hover {\n",
              "      background-color: #434B5C;\n",
              "      box-shadow: 0px 1px 3px 1px rgba(0, 0, 0, 0.15);\n",
              "      filter: drop-shadow(0px 1px 2px rgba(0, 0, 0, 0.3));\n",
              "      fill: #FFFFFF;\n",
              "    }\n",
              "  </style>\n",
              "\n",
              "      <script>\n",
              "        const buttonEl =\n",
              "          document.querySelector('#df-7d6653f5-565d-4417-8e43-820c64b106db button.colab-df-convert');\n",
              "        buttonEl.style.display =\n",
              "          google.colab.kernel.accessAllowed ? 'block' : 'none';\n",
              "\n",
              "        async function convertToInteractive(key) {\n",
              "          const element = document.querySelector('#df-7d6653f5-565d-4417-8e43-820c64b106db');\n",
              "          const dataTable =\n",
              "            await google.colab.kernel.invokeFunction('convertToInteractive',\n",
              "                                                     [key], {});\n",
              "          if (!dataTable) return;\n",
              "\n",
              "          const docLinkHtml = 'Like what you see? Visit the ' +\n",
              "            '<a target=\"_blank\" href=https://colab.research.google.com/notebooks/data_table.ipynb>data table notebook</a>'\n",
              "            + ' to learn more about interactive tables.';\n",
              "          element.innerHTML = '';\n",
              "          dataTable['output_type'] = 'display_data';\n",
              "          await google.colab.output.renderOutput(dataTable, element);\n",
              "          const docLink = document.createElement('div');\n",
              "          docLink.innerHTML = docLinkHtml;\n",
              "          element.appendChild(docLink);\n",
              "        }\n",
              "      </script>\n",
              "    </div>\n",
              "  </div>\n",
              "  "
            ]
          },
          "metadata": {},
          "execution_count": 13
        }
      ],
      "source": [
        "df['Date'] = pd.to_datetime(df['Date'])\n",
        "df"
      ]
    },
    {
      "cell_type": "code",
      "execution_count": null,
      "metadata": {
        "colab": {
          "base_uri": "https://localhost:8080/",
          "height": 853
        },
        "id": "Di2ZF8AHoH4t",
        "outputId": "30a89b4c-a740-4c78-d9d7-ca150bfcf832"
      },
      "outputs": [
        {
          "output_type": "display_data",
          "data": {
            "text/plain": [
              "<Figure size 2000x1000 with 1 Axes>"
            ],
            "image/png": "[encoded data removed]"
          },
          "metadata": {}
        }
      ],
      "source": [
        "plt.figure(figsize=(20,10))\n",
        "sns.lineplot(data=df.iloc[:, 1:5],linewidth=1)\n",
        "plt.title(f'Tesla Overall Stocks(2016-2021)')\n",
        "plt.show()"
      ]
    },
    {
      "cell_type": "markdown",
      "source": [
        "**Univariate**"
      ],
      "metadata": {
        "id": "YYCtZjaQH2Yd"
      }
    },
    {
      "cell_type": "markdown",
      "metadata": {
        "id": "clPANQOVsTew"
      },
      "source": [
        "**Prepare Stock Close price**\n",
        "\n",
        "We are going to predict close price."
      ]
    },
    {
      "cell_type": "code",
      "execution_count": null,
      "metadata": {
        "colab": {
          "base_uri": "https://localhost:8080/",
          "height": 424
        },
        "id": "xKUImIpQvGLj",
        "outputId": "47b31592-634a-4937-8625-109f768daf53"
      },
      "outputs": [
        {
          "data": {
            "text/html": [
              "\n",
              "  <div id=\"df-f3839307-d956-4e1a-aa45-7cf6e820e8b3\">\n",
              "    <div class=\"colab-df-container\">\n",
              "      <div>\n",
              "<style scoped>\n",
              "    .dataframe tbody tr th:only-of-type {\n",
              "        vertical-align: middle;\n",
              "    }\n",
              "\n",
              "    .dataframe tbody tr th {\n",
              "        vertical-align: top;\n",
              "    }\n",
              "\n",
              "    .dataframe thead th {\n",
              "        text-align: right;\n",
              "    }\n",
              "</style>\n",
              "<table border=\"1\" class=\"dataframe\">\n",
              "  <thead>\n",
              "    <tr style=\"text-align: right;\">\n",
              "      <th></th>\n",
              "      <th>Date</th>\n",
              "      <th>Close</th>\n",
              "    </tr>\n",
              "  </thead>\n",
              "  <tbody>\n",
              "    <tr>\n",
              "      <th>0</th>\n",
              "      <td>2016-08-16</td>\n",
              "      <td>44.722000</td>\n",
              "    </tr>\n",
              "    <tr>\n",
              "      <th>1</th>\n",
              "      <td>2016-08-17</td>\n",
              "      <td>44.647999</td>\n",
              "    </tr>\n",
              "    <tr>\n",
              "      <th>2</th>\n",
              "      <td>2016-08-18</td>\n",
              "      <td>44.702000</td>\n",
              "    </tr>\n",
              "    <tr>\n",
              "      <th>3</th>\n",
              "      <td>2016-08-19</td>\n",
              "      <td>45.000000</td>\n",
              "    </tr>\n",
              "    <tr>\n",
              "      <th>4</th>\n",
              "      <td>2016-08-22</td>\n",
              "      <td>44.585999</td>\n",
              "    </tr>\n",
              "    <tr>\n",
              "      <th>...</th>\n",
              "      <td>...</td>\n",
              "      <td>...</td>\n",
              "    </tr>\n",
              "    <tr>\n",
              "      <th>1253</th>\n",
              "      <td>2021-08-09</td>\n",
              "      <td>713.760010</td>\n",
              "    </tr>\n",
              "    <tr>\n",
              "      <th>1254</th>\n",
              "      <td>2021-08-10</td>\n",
              "      <td>709.989990</td>\n",
              "    </tr>\n",
              "    <tr>\n",
              "      <th>1255</th>\n",
              "      <td>2021-08-11</td>\n",
              "      <td>707.820007</td>\n",
              "    </tr>\n",
              "    <tr>\n",
              "      <th>1256</th>\n",
              "      <td>2021-08-12</td>\n",
              "      <td>722.250000</td>\n",
              "    </tr>\n",
              "    <tr>\n",
              "      <th>1257</th>\n",
              "      <td>2021-08-13</td>\n",
              "      <td>717.169983</td>\n",
              "    </tr>\n",
              "  </tbody>\n",
              "</table>\n",
              "<p>1258 rows × 2 columns</p>\n",
              "</div>\n",
              "      <button class=\"colab-df-convert\" onclick=\"convertToInteractive('df-f3839307-d956-4e1a-aa45-7cf6e820e8b3')\"\n",
              "              title=\"Convert this dataframe to an interactive table.\"\n",
              "              style=\"display:none;\">\n",
              "        \n",
              "  <svg xmlns=\"http://www.w3.org/2000/svg\" height=\"24px\"viewBox=\"0 0 24 24\"\n",
              "       width=\"24px\">\n",
              "    <path d=\"M0 0h24v24H0V0z\" fill=\"none\"/>\n",
              "    <path d=\"M18.56 5.44l.94 2.06.94-2.06 2.06-.94-2.06-.94-.94-2.06-.94 2.06-2.06.94zm-11 1L8.5 8.5l.94-2.06 2.06-.94-2.06-.94L8.5 2.5l-.94 2.06-2.06.94zm10 10l.94 2.06.94-2.06 2.06-.94-2.06-.94-.94-2.06-.94 2.06-2.06.94z\"/><path d=\"M17.41 7.96l-1.37-1.37c-.4-.4-.92-.59-1.43-.59-.52 0-1.04.2-1.43.59L10.3 9.45l-7.72 7.72c-.78.78-.78 2.05 0 2.83L4 21.41c.39.39.9.59 1.41.59.51 0 1.02-.2 1.41-.59l7.78-7.78 2.81-2.81c.8-.78.8-2.07 0-2.86zM5.41 20L4 18.59l7.72-7.72 1.47 1.35L5.41 20z\"/>\n",
              "  </svg>\n",
              "      </button>\n",
              "      \n",
              "  <style>\n",
              "    .colab-df-container {\n",
              "      display:flex;\n",
              "      flex-wrap:wrap;\n",
              "      gap: 12px;\n",
              "    }\n",
              "\n",
              "    .colab-df-convert {\n",
              "      background-color: #E8F0FE;\n",
              "      border: none;\n",
              "      border-radius: 50%;\n",
              "      cursor: pointer;\n",
              "      display: none;\n",
              "      fill: #1967D2;\n",
              "      height: 32px;\n",
              "      padding: 0 0 0 0;\n",
              "      width: 32px;\n",
              "    }\n",
              "\n",
              "    .colab-df-convert:hover {\n",
              "      background-color: #E2EBFA;\n",
              "      box-shadow: 0px 1px 2px rgba(60, 64, 67, 0.3), 0px 1px 3px 1px rgba(60, 64, 67, 0.15);\n",
              "      fill: #174EA6;\n",
              "    }\n",
              "\n",
              "    [theme=dark] .colab-df-convert {\n",
              "      background-color: #3B4455;\n",
              "      fill: #D2E3FC;\n",
              "    }\n",
              "\n",
              "    [theme=dark] .colab-df-convert:hover {\n",
              "      background-color: #434B5C;\n",
              "      box-shadow: 0px 1px 3px 1px rgba(0, 0, 0, 0.15);\n",
              "      filter: drop-shadow(0px 1px 2px rgba(0, 0, 0, 0.3));\n",
              "      fill: #FFFFFF;\n",
              "    }\n",
              "  </style>\n",
              "\n",
              "      <script>\n",
              "        const buttonEl =\n",
              "          document.querySelector('#df-f3839307-d956-4e1a-aa45-7cf6e820e8b3 button.colab-df-convert');\n",
              "        buttonEl.style.display =\n",
              "          google.colab.kernel.accessAllowed ? 'block' : 'none';\n",
              "\n",
              "        async function convertToInteractive(key) {\n",
              "          const element = document.querySelector('#df-f3839307-d956-4e1a-aa45-7cf6e820e8b3');\n",
              "          const dataTable =\n",
              "            await google.colab.kernel.invokeFunction('convertToInteractive',\n",
              "                                                     [key], {});\n",
              "          if (!dataTable) return;\n",
              "\n",
              "          const docLinkHtml = 'Like what you see? Visit the ' +\n",
              "            '<a target=\"_blank\" href=https://colab.research.google.com/notebooks/data_table.ipynb>data table notebook</a>'\n",
              "            + ' to learn more about interactive tables.';\n",
              "          element.innerHTML = '';\n",
              "          dataTable['output_type'] = 'display_data';\n",
              "          await google.colab.output.renderOutput(dataTable, element);\n",
              "          const docLink = document.createElement('div');\n",
              "          docLink.innerHTML = docLinkHtml;\n",
              "          element.appendChild(docLink);\n",
              "        }\n",
              "      </script>\n",
              "    </div>\n",
              "  </div>\n",
              "  "
            ],
            "text/plain": [
              "           Date       Close\n",
              "0    2016-08-16   44.722000\n",
              "1    2016-08-17   44.647999\n",
              "2    2016-08-18   44.702000\n",
              "3    2016-08-19   45.000000\n",
              "4    2016-08-22   44.585999\n",
              "...         ...         ...\n",
              "1253 2021-08-09  713.760010\n",
              "1254 2021-08-10  709.989990\n",
              "1255 2021-08-11  707.820007\n",
              "1256 2021-08-12  722.250000\n",
              "1257 2021-08-13  717.169983\n",
              "\n",
              "[1258 rows x 2 columns]"
            ]
          },
          "execution_count": 15,
          "metadata": {},
          "output_type": "execute_result"
        }
      ],
      "source": [
        "close_df = df[['Date','Close']]\n",
        "close_df"
      ]
    },
    {
      "cell_type": "code",
      "execution_count": null,
      "metadata": {
        "colab": {
          "base_uri": "https://localhost:8080/",
          "height": 447
        },
        "id": "8hSb7zLWyJxP",
        "outputId": "1fd55972-14bd-42ba-be2b-acde8c0cf094"
      },
      "outputs": [
        {
          "data": {
            "text/plain": [
              "<Axes: >"
            ]
          },
          "execution_count": 16,
          "metadata": {},
          "output_type": "execute_result"
        },
        {
          "data": {
            "image/png": "[encoded data removed]",
            "text/plain": [
              "<Figure size 640x480 with 1 Axes>"
            ]
          },
          "metadata": {},
          "output_type": "display_data"
        }
      ],
      "source": [
        "close_df.iloc[:, 1:2].plot()"
      ]
    },
    {
      "cell_type": "code",
      "execution_count": null,
      "metadata": {
        "id": "Xm_rH-gs8Zvk"
      },
      "outputs": [],
      "source": [
        "training_set = close_df.iloc[:, 1:2].values"
      ]
    },
    {
      "cell_type": "code",
      "execution_count": null,
      "metadata": {
        "id": "QIK7O1ltozO9"
      },
      "outputs": [],
      "source": [
        "def sliding_windows(data, seq_length):\n",
        "    x = []\n",
        "    y = []\n",
        "    n = len(data)\n",
        "\n",
        "    for i in range(n - seq_length - 1):\n",
        "        start_x = i\n",
        "        end_x = i + seq_length\n",
        "\n",
        "        x_i = data[start_x:end_x]\n",
        "        y_i = data[end_x]\n",
        "\n",
        "        x.append(x_i)\n",
        "        y.append(y_i)\n",
        "\n",
        "    return np.array(x), np.array(y)"
      ]
    },
    {
      "cell_type": "code",
      "execution_count": null,
      "metadata": {
        "id": "Ww4yCdfbsD0v"
      },
      "outputs": [],
      "source": [
        "scaler = MinMaxScaler(feature_range=(0, 1))\n",
        "training_data = scaler.fit_transform(training_set)"
      ]
    },
    {
      "cell_type": "code",
      "execution_count": null,
      "metadata": {
        "id": "tr2QcsXp88NO"
      },
      "outputs": [],
      "source": [
        "seq_length = 20\n",
        "x, y = sliding_windows(training_data, seq_length)"
      ]
    },
    {
      "cell_type": "code",
      "execution_count": null,
      "metadata": {
        "colab": {
          "base_uri": "https://localhost:8080/"
        },
        "id": "iL_XCDZu9Msy",
        "outputId": "f7669c5b-77a6-4896-b823-8184026e00cb"
      },
      "outputs": [
        {
          "data": {
            "text/plain": [
              "array([[0.01053705],\n",
              "       [0.01044971],\n",
              "       [0.01051345],\n",
              "       [0.01086515],\n",
              "       [0.01037654],\n",
              "       [0.01082738],\n",
              "       [0.01030336],\n",
              "       [0.00991153],\n",
              "       [0.00968257],\n",
              "       [0.00855191],\n",
              "       [0.00764078],\n",
              "       [0.00779893],\n",
              "       [0.00514578],\n",
              "       [0.00444001],\n",
              "       [0.00563204],\n",
              "       [0.00536766],\n",
              "       [0.00434087],\n",
              "       [0.0036587 ],\n",
              "       [0.00456275],\n",
              "       [0.00403165]])"
            ]
          },
          "execution_count": 21,
          "metadata": {},
          "output_type": "execute_result"
        }
      ],
      "source": [
        "x[0]"
      ]
    },
    {
      "cell_type": "code",
      "execution_count": null,
      "metadata": {
        "id": "pVhLzG_y9Spr"
      },
      "outputs": [],
      "source": [
        "train_size = int(len(y) * 0.8)\n",
        "test_size = len(y) - train_size\n",
        "\n",
        "dataX = Variable(torch.Tensor(np.array(x)))\n",
        "dataY = Variable(torch.Tensor(np.array(y)))\n",
        "\n",
        "X_train = Variable(torch.Tensor(np.array(x[0:train_size])))\n",
        "y_train = Variable(torch.Tensor(np.array(y[0:train_size])))\n",
        "\n",
        "X_test = Variable(torch.Tensor(np.array(x[train_size:len(x)])))\n",
        "y_test = Variable(torch.Tensor(np.array(y[train_size:len(y)])))"
      ]
    },
    {
      "cell_type": "code",
      "execution_count": null,
      "metadata": {
        "colab": {
          "base_uri": "https://localhost:8080/"
        },
        "id": "ydGDIrti_RE0",
        "outputId": "263100a0-867b-442b-8163-4f1118f2d56a"
      },
      "outputs": [
        {
          "name": "stdout",
          "output_type": "stream",
          "text": [
            "X_train:  torch.Size([989, 20, 1])\n",
            "y_train:  torch.Size([989, 1])\n",
            "X_test:  torch.Size([248, 20, 1])\n",
            "y_test torch.Size([248, 1])\n"
          ]
        }
      ],
      "source": [
        "print(\"X_train: \", X_train.shape)\n",
        "print(\"y_train: \", y_train.shape)\n",
        "print(\"X_test: \", X_test.shape)\n",
        "print(\"y_test\", y_test.shape)"
      ]
    },
    {
      "cell_type": "markdown",
      "metadata": {
        "id": "Y5T_ONu5BnSq"
      },
      "source": [
        "**Model Building**"
      ]
    },
    {
      "cell_type": "code",
      "execution_count": null,
      "metadata": {
        "id": "SmNdHBYFBmsK"
      },
      "outputs": [],
      "source": [
        "class LSTM(nn.Module):\n",
        "\n",
        "    def __init__(self, num_classes, input_size, hidden_size, num_layers):\n",
        "        super(LSTM, self).__init__()\n",
        "\n",
        "        self.num_classes = num_classes\n",
        "        self.num_layers = num_layers\n",
        "        self.input_size = input_size\n",
        "        self.hidden_size = hidden_size\n",
        "\n",
        "        self.lstm = nn.LSTM(input_size=input_size, hidden_size=hidden_size,\n",
        "                            num_layers=num_layers, batch_first=True)\n",
        "        self.fc = nn.Linear(hidden_size, num_classes)\n",
        "\n",
        "    def forward(self, x):\n",
        "        # init hidden state\n",
        "        h_0 = Variable(torch.zeros(self.num_layers, x.size(0), self.hidden_size))\n",
        "\n",
        "        # init cell state\n",
        "        c_0 = Variable(torch.zeros(self.num_layers, x.size(0), self.hidden_size))\n",
        "\n",
        "        # Propagate input through LSTM\n",
        "        ula, (h_out, _) = self.lstm(x, (h_0, c_0))\n",
        "\n",
        "        h_out = h_out.view(-1, self.hidden_size)\n",
        "\n",
        "        out = self.fc(h_out)\n",
        "\n",
        "        return out\n"
      ]
    },
    {
      "cell_type": "markdown",
      "metadata": {
        "id": "WyFLAFpIBxGK"
      },
      "source": [
        "**Training**"
      ]
    },
    {
      "cell_type": "code",
      "execution_count": null,
      "metadata": {
        "id": "OE7UbyfLBERZ"
      },
      "outputs": [],
      "source": [
        "# parameters\n",
        "\n",
        "num_epochs = 1000\n",
        "learning_rate = 0.01\n",
        "\n",
        "input_size = 1\n",
        "hidden_size = 32\n",
        "num_layers = 1\n",
        "\n",
        "num_classes = 1"
      ]
    },
    {
      "cell_type": "code",
      "execution_count": null,
      "metadata": {
        "id": "XXYuq7KVB-VQ"
      },
      "outputs": [],
      "source": [
        "lstm = LSTM(num_classes, input_size, hidden_size, num_layers)"
      ]
    },
    {
      "cell_type": "code",
      "execution_count": null,
      "metadata": {
        "id": "tAnknJTsCBcc"
      },
      "outputs": [],
      "source": [
        "criterion = torch.nn.MSELoss()\n",
        "optimizer = torch.optim.Adam(lstm.parameters(), lr=learning_rate)"
      ]
    },
    {
      "cell_type": "code",
      "execution_count": null,
      "metadata": {
        "colab": {
          "base_uri": "https://localhost:8080/"
        },
        "id": "PSKlnc3QCIF-",
        "outputId": "33e6eb7d-f883-47bc-a213-b8c6dc785d7a"
      },
      "outputs": [
        {
          "name": "stdout",
          "output_type": "stream",
          "text": [
            "Epoch: 0, Training Loss: 0.0038248063065111637, Test Loss: 0.4771626591682434\n",
            "Epoch: 100, Training Loss: 5.1944716688012704e-05, Test Loss: 0.004174453672021627\n",
            "Epoch: 200, Training Loss: 4.543125396594405e-05, Test Loss: 0.002200107555836439\n",
            "Epoch: 300, Training Loss: 4.004073707619682e-05, Test Loss: 0.001229270943440497\n",
            "Epoch: 400, Training Loss: 3.553574060788378e-05, Test Loss: 0.0010532767046242952\n",
            "Epoch: 500, Training Loss: 3.2496271160198376e-05, Test Loss: 0.0011826782720163465\n",
            "Epoch: 600, Training Loss: 3.064280463149771e-05, Test Loss: 0.0010259525151923299\n",
            "Epoch: 700, Training Loss: 2.9284825359354727e-05, Test Loss: 0.0009261706145480275\n",
            "Epoch: 800, Training Loss: 2.832916652550921e-05, Test Loss: 0.000863863795530051\n",
            "Epoch: 900, Training Loss: 2.774032145680394e-05, Test Loss: 0.000844159338157624\n"
          ]
        }
      ],
      "source": [
        "train_losses = []\n",
        "test_losses = []\n",
        "\n",
        "for epoch in range(num_epochs):\n",
        "    lstm.train()\n",
        "\n",
        "    output_train = lstm(X_train)\n",
        "    optimizer.zero_grad()\n",
        "\n",
        "    # obtain the loss function\n",
        "    loss_train = criterion(output_train, y_train)\n",
        "    train_losses.append(loss_train.item())\n",
        "\n",
        "    loss_train.backward()\n",
        "    optimizer.step()\n",
        "\n",
        "    lstm.eval()\n",
        "    output_test = lstm(X_test)\n",
        "    loss_test = criterion(output_test, y_test)\n",
        "    test_losses.append(loss_test.item())\n",
        "\n",
        "\n",
        "    if epoch % 100 == 0:\n",
        "      print(f\"Epoch: {epoch}, Training Loss: {loss_train.item()}, Test Loss: {loss_test.item()}\")\n"
      ]
    },
    {
      "cell_type": "code",
      "execution_count": null,
      "metadata": {
        "colab": {
          "base_uri": "https://localhost:8080/",
          "height": 452
        },
        "id": "5QjuzEykFWtf",
        "outputId": "2d223ba9-99c8-4581-845e-55227ec6b658"
      },
      "outputs": [
        {
          "data": {
            "image/png": "[encoded data removed]",
            "text/plain": [
              "<Figure size 640x480 with 1 Axes>"
            ]
          },
          "metadata": {},
          "output_type": "display_data"
        }
      ],
      "source": [
        "plt.title(\"LSTM-Training and Test Losses\")\n",
        "plt.plot(train_losses, label='Training')\n",
        "plt.plot(test_losses, label='Test')\n",
        "plt.legend()\n",
        "plt.show()"
      ]
    },
    {
      "cell_type": "markdown",
      "metadata": {
        "id": "zBax-gRNqo1q"
      },
      "source": [
        "**Testing**"
      ]
    },
    {
      "cell_type": "code",
      "execution_count": null,
      "metadata": {
        "colab": {
          "base_uri": "https://localhost:8080/",
          "height": 478
        },
        "id": "fS3k0NjoqzP3",
        "outputId": "f847a0bd-a10a-478c-a6bb-b9acf45ac132"
      },
      "outputs": [
        {
          "data": {
            "image/png": "[encoded data removed]",
            "text/plain": [
              "<Figure size 640x480 with 1 Axes>"
            ]
          },
          "metadata": {},
          "output_type": "display_data"
        }
      ],
      "source": [
        "\n",
        "lstm.eval()\n",
        "train_predict = lstm(dataX)\n",
        "\n",
        "data_predict = train_predict.data.numpy()\n",
        "dataY_plot = dataY.data.numpy()\n",
        "\n",
        "# Transform back to original form\n",
        "data_predict = scaler.inverse_transform(data_predict)\n",
        "dataY_plot = scaler.inverse_transform(dataY_plot)\n",
        "\n",
        "plt.axvline(x=train_size, c='r', linestyle='--')\n",
        "\n",
        "plt.plot(dataY_plot, color='b')\n",
        "plt.plot(data_predict, color='y')\n",
        "plt.legend([\"Test/Train split\", \"True\", \"Prediction\"], loc =\"upper left\")\n",
        "\n",
        "plt.suptitle('LSTM-Time-Series Prediction')\n",
        "plt.show()"
      ]
    },
    {
      "cell_type": "markdown",
      "metadata": {
        "id": "ErvQZ1CB7aWh"
      },
      "source": [
        "**Test evaluation**"
      ]
    },
    {
      "cell_type": "code",
      "execution_count": null,
      "metadata": {
        "id": "izeXwhH37EeT"
      },
      "outputs": [],
      "source": [
        "test_predict = lstm(X_test)"
      ]
    },
    {
      "cell_type": "code",
      "execution_count": null,
      "metadata": {
        "id": "MKtZQtBe66_3"
      },
      "outputs": [],
      "source": [
        "test_predict = test_predict.detach().numpy()\n",
        "test_predict = scaler.inverse_transform(test_predict)\n",
        "original_ytest = scaler.inverse_transform(y_test.reshape(-1,1))"
      ]
    },
    {
      "cell_type": "code",
      "execution_count": null,
      "metadata": {
        "colab": {
          "base_uri": "https://localhost:8080/"
        },
        "id": "iFdcO69L6_Nn",
        "outputId": "ef3ad56d-37e8-4a3d-a2c5-ab0a51991bc4"
      },
      "outputs": [
        {
          "name": "stdout",
          "output_type": "stream",
          "text": [
            "LSTM: Test data MAE:  18.066251494496292\n",
            "LSTM: Test data MSE:  604.6502806160578\n",
            "LSTM: Test data r2_score:  0.96746468112985\n"
          ]
        }
      ],
      "source": [
        "print(\"LSTM: Test data MAE: \", mean_absolute_error(original_ytest,test_predict))\n",
        "print(\"LSTM: Test data MSE: \",mean_squared_error(original_ytest,test_predict))\n",
        "print(\"LSTM: Test data r2_score: \", r2_score(original_ytest,test_predict))"
      ]
    },
    {
      "cell_type": "markdown",
      "metadata": {
        "id": "tkEYqOW4wZlu"
      },
      "source": [
        "**GRU**"
      ]
    },
    {
      "cell_type": "code",
      "execution_count": null,
      "metadata": {
        "id": "OWSTDmNNsgGd"
      },
      "outputs": [],
      "source": [
        "class GRU(nn.Module):\n",
        "\n",
        "    def __init__(self, num_classes, input_size, hidden_size, num_layers):\n",
        "        super(GRU, self).__init__()\n",
        "\n",
        "        self.num_classes = num_classes\n",
        "        self.num_layers = num_layers\n",
        "        self.input_size = input_size\n",
        "        self.hidden_size = hidden_size\n",
        "\n",
        "        self.gru = nn.GRU(input_size=input_size, hidden_size=hidden_size,\n",
        "                            num_layers=num_layers, batch_first=True)\n",
        "\n",
        "        self.fc = nn.Linear(hidden_size, num_classes)\n",
        "\n",
        "    def forward(self, x):\n",
        "        h_0 = Variable(torch.zeros(\n",
        "            self.num_layers, x.size(0), self.hidden_size))\n",
        "\n",
        "        # Propagate input through GRU\n",
        "        ula, h_out = self.gru(x, h_0)\n",
        "\n",
        "        h_out = h_out.view(-1, self.hidden_size)\n",
        "\n",
        "        out = self.fc(h_out)\n",
        "\n",
        "        return out"
      ]
    },
    {
      "cell_type": "code",
      "execution_count": null,
      "metadata": {
        "id": "6YfZMmEpwnjx"
      },
      "outputs": [],
      "source": [
        "gru = GRU(num_classes, input_size, hidden_size, num_layers)"
      ]
    },
    {
      "cell_type": "code",
      "execution_count": null,
      "metadata": {
        "id": "_GaCGWWXwrln"
      },
      "outputs": [],
      "source": [
        "criterion = torch.nn.MSELoss()\n",
        "optimizer = torch.optim.Adam(gru.parameters(), lr=learning_rate)"
      ]
    },
    {
      "cell_type": "code",
      "execution_count": null,
      "metadata": {
        "colab": {
          "base_uri": "https://localhost:8080/"
        },
        "id": "qTVplVCLwwpj",
        "outputId": "e49930ef-f3fe-4a4f-e23b-89e5a88115f8"
      },
      "outputs": [
        {
          "name": "stdout",
          "output_type": "stream",
          "text": [
            "Epoch: 0, Training Loss: 0.014808221720159054, Test Loss: 0.3589434027671814\n",
            "Epoch: 100, Training Loss: 2.8871481845271774e-05, Test Loss: 0.0009107475052587688\n",
            "Epoch: 200, Training Loss: 2.773115920717828e-05, Test Loss: 0.0009079679730348289\n",
            "Epoch: 300, Training Loss: 2.733879409788642e-05, Test Loss: 0.0008747974643483758\n",
            "Epoch: 400, Training Loss: 2.713516732910648e-05, Test Loss: 0.0008452126639895141\n",
            "Epoch: 500, Training Loss: 2.7015639716410078e-05, Test Loss: 0.0008214513072744012\n",
            "Epoch: 600, Training Loss: 2.6940264433505945e-05, Test Loss: 0.0008033720660023391\n",
            "Epoch: 700, Training Loss: 2.6889909349847585e-05, Test Loss: 0.0007902758661657572\n",
            "Epoch: 800, Training Loss: 2.6854180759983137e-05, Test Loss: 0.000781318754889071\n",
            "Epoch: 900, Training Loss: 2.6826934117707424e-05, Test Loss: 0.0007756581180728972\n"
          ]
        }
      ],
      "source": [
        "train_losses = []\n",
        "test_losses = []\n",
        "\n",
        "for epoch in range(num_epochs):\n",
        "    gru.train()\n",
        "\n",
        "    output_train = gru(X_train)\n",
        "    optimizer.zero_grad()\n",
        "\n",
        "    # obtain the loss function\n",
        "    loss_train = criterion(output_train, y_train)\n",
        "    train_losses.append(loss_train.item())\n",
        "\n",
        "    loss_train.backward()\n",
        "    optimizer.step()\n",
        "\n",
        "    gru.eval()\n",
        "    output_test = gru(X_test)\n",
        "    loss_test = criterion(output_test, y_test)\n",
        "    test_losses.append(loss_test.item())\n",
        "\n",
        "\n",
        "    if epoch % 100 == 0:\n",
        "      print(f\"Epoch: {epoch}, Training Loss: {loss_train.item()}, Test Loss: {loss_test.item()}\")\n"
      ]
    },
    {
      "cell_type": "code",
      "execution_count": null,
      "metadata": {
        "colab": {
          "base_uri": "https://localhost:8080/",
          "height": 452
        },
        "id": "mI-JmNcox6Q9",
        "outputId": "db92236d-36a2-431a-df13-fd84bb485bc6"
      },
      "outputs": [
        {
          "data": {
            "image/png": "[encoded data removed]",
            "text/plain": [
              "<Figure size 640x480 with 1 Axes>"
            ]
          },
          "metadata": {},
          "output_type": "display_data"
        }
      ],
      "source": [
        "plt.title(\"GRU-Training and Test Losses\")\n",
        "plt.plot(train_losses, label='Training')\n",
        "plt.plot(test_losses, label='Test')\n",
        "plt.legend()\n",
        "plt.show()"
      ]
    },
    {
      "cell_type": "code",
      "execution_count": null,
      "metadata": {
        "colab": {
          "base_uri": "https://localhost:8080/",
          "height": 478
        },
        "id": "Fwg4Y2DJyFA4",
        "outputId": "ef8a7fc1-fa7c-4edc-8f96-52844ae30865"
      },
      "outputs": [
        {
          "data": {
            "image/png": "[encoded data removed]",
            "text/plain": [
              "<Figure size 640x480 with 1 Axes>"
            ]
          },
          "metadata": {},
          "output_type": "display_data"
        }
      ],
      "source": [
        "gru.eval()\n",
        "train_predict = gru(dataX)\n",
        "\n",
        "data_predict = train_predict.data.numpy()\n",
        "dataY_plot = dataY.data.numpy()\n",
        "\n",
        "# Transform back to original form\n",
        "data_predict = scaler.inverse_transform(data_predict)\n",
        "dataY_plot = scaler.inverse_transform(dataY_plot)\n",
        "\n",
        "plt.axvline(x=train_size, c='r', linestyle='--')\n",
        "\n",
        "plt.plot(dataY_plot, color='b')\n",
        "plt.plot(data_predict, color='y')\n",
        "plt.legend([\"Test/Train split\", \"True\", \"Prediction\"], loc =\"upper left\")\n",
        "\n",
        "plt.suptitle('GRU-Time-Series Prediction')\n",
        "plt.show()"
      ]
    },
    {
      "cell_type": "code",
      "execution_count": null,
      "metadata": {
        "colab": {
          "base_uri": "https://localhost:8080/"
        },
        "id": "kiVdfs0SyR6v",
        "outputId": "8b3f0307-6bbd-4893-dd7f-b053a1bd6024"
      },
      "outputs": [
        {
          "name": "stdout",
          "output_type": "stream",
          "text": [
            "GRU: Test data MAE:  17.40462892646422\n",
            "GRU: Test data MSE:  554.5962311464739\n",
            "GRU: Test data r2_score:  0.9701580139743762\n"
          ]
        }
      ],
      "source": [
        "test_predict = gru(X_test).detach().numpy()\n",
        "test_predict = scaler.inverse_transform(test_predict)\n",
        "original_ytest = scaler.inverse_transform(y_test.reshape(-1,1))\n",
        "\n",
        "print(\"GRU: Test data MAE: \", mean_absolute_error(original_ytest,test_predict))\n",
        "print(\"GRU: Test data MSE: \",mean_squared_error(original_ytest,test_predict))\n",
        "print(\"GRU: Test data r2_score: \", r2_score(original_ytest,test_predict))"
      ]
    },
    {
      "cell_type": "markdown",
      "metadata": {
        "id": "quPpGsI0wLRv"
      },
      "source": [
        "# Multivariate"
      ]
    },
    {
      "cell_type": "code",
      "execution_count": null,
      "metadata": {
        "colab": {
          "base_uri": "https://localhost:8080/",
          "height": 424
        },
        "id": "boyD0EnvBCSQ",
        "outputId": "7e502969-9563-47b1-a207-8ac5edfa6621"
      },
      "outputs": [
        {
          "output_type": "execute_result",
          "data": {
            "text/plain": [
              "           Date        Open        High         Low       Close    Volume\n",
              "0    2016-08-16   45.098000   45.438000   44.681999   44.722000  11335500\n",
              "1    2016-08-17   44.866001   44.966000   44.560001   44.647999   8935500\n",
              "2    2016-08-18   44.764000   45.132000   44.458000   44.702000   8572500\n",
              "3    2016-08-19   44.708000   45.034000   44.506001   45.000000   8297500\n",
              "4    2016-08-22   44.834000   45.021999   44.535999   44.585999  10327500\n",
              "...         ...         ...         ...         ...         ...       ...\n",
              "1253 2021-08-09  710.169983  719.030029  705.130005  713.760010  14715300\n",
              "1254 2021-08-10  713.989990  716.590027  701.880005  709.989990  13432300\n",
              "1255 2021-08-11  712.710022  715.179993  704.210022  707.820007   9800600\n",
              "1256 2021-08-12  706.340027  722.799988  699.400024  722.250000  17459100\n",
              "1257 2021-08-13  723.710022  729.900024  714.340027  717.169983  16698900\n",
              "\n",
              "[1258 rows x 6 columns]"
            ],
            "text/html": [
              "\n",
              "  <div id=\"df-5f807c13-9259-46bf-b9cc-d163913f618f\">\n",
              "    <div class=\"colab-df-container\">\n",
              "      <div>\n",
              "<style scoped>\n",
              "    .dataframe tbody tr th:only-of-type {\n",
              "        vertical-align: middle;\n",
              "    }\n",
              "\n",
              "    .dataframe tbody tr th {\n",
              "        vertical-align: top;\n",
              "    }\n",
              "\n",
              "    .dataframe thead th {\n",
              "        text-align: right;\n",
              "    }\n",
              "</style>\n",
              "<table border=\"1\" class=\"dataframe\">\n",
              "  <thead>\n",
              "    <tr style=\"text-align: right;\">\n",
              "      <th></th>\n",
              "      <th>Date</th>\n",
              "      <th>Open</th>\n",
              "      <th>High</th>\n",
              "      <th>Low</th>\n",
              "      <th>Close</th>\n",
              "      <th>Volume</th>\n",
              "    </tr>\n",
              "  </thead>\n",
              "  <tbody>\n",
              "    <tr>\n",
              "      <th>0</th>\n",
              "      <td>2016-08-16</td>\n",
              "      <td>45.098000</td>\n",
              "      <td>45.438000</td>\n",
              "      <td>44.681999</td>\n",
              "      <td>44.722000</td>\n",
              "      <td>11335500</td>\n",
              "    </tr>\n",
              "    <tr>\n",
              "      <th>1</th>\n",
              "      <td>2016-08-17</td>\n",
              "      <td>44.866001</td>\n",
              "      <td>44.966000</td>\n",
              "      <td>44.560001</td>\n",
              "      <td>44.647999</td>\n",
              "      <td>8935500</td>\n",
              "    </tr>\n",
              "    <tr>\n",
              "      <th>2</th>\n",
              "      <td>2016-08-18</td>\n",
              "      <td>44.764000</td>\n",
              "      <td>45.132000</td>\n",
              "      <td>44.458000</td>\n",
              "      <td>44.702000</td>\n",
              "      <td>8572500</td>\n",
              "    </tr>\n",
              "    <tr>\n",
              "      <th>3</th>\n",
              "      <td>2016-08-19</td>\n",
              "      <td>44.708000</td>\n",
              "      <td>45.034000</td>\n",
              "      <td>44.506001</td>\n",
              "      <td>45.000000</td>\n",
              "      <td>8297500</td>\n",
              "    </tr>\n",
              "    <tr>\n",
              "      <th>4</th>\n",
              "      <td>2016-08-22</td>\n",
              "      <td>44.834000</td>\n",
              "      <td>45.021999</td>\n",
              "      <td>44.535999</td>\n",
              "      <td>44.585999</td>\n",
              "      <td>10327500</td>\n",
              "    </tr>\n",
              "    <tr>\n",
              "      <th>...</th>\n",
              "      <td>...</td>\n",
              "      <td>...</td>\n",
              "      <td>...</td>\n",
              "      <td>...</td>\n",
              "      <td>...</td>\n",
              "      <td>...</td>\n",
              "    </tr>\n",
              "    <tr>\n",
              "      <th>1253</th>\n",
              "      <td>2021-08-09</td>\n",
              "      <td>710.169983</td>\n",
              "      <td>719.030029</td>\n",
              "      <td>705.130005</td>\n",
              "      <td>713.760010</td>\n",
              "      <td>14715300</td>\n",
              "    </tr>\n",
              "    <tr>\n",
              "      <th>1254</th>\n",
              "      <td>2021-08-10</td>\n",
              "      <td>713.989990</td>\n",
              "      <td>716.590027</td>\n",
              "      <td>701.880005</td>\n",
              "      <td>709.989990</td>\n",
              "      <td>13432300</td>\n",
              "    </tr>\n",
              "    <tr>\n",
              "      <th>1255</th>\n",
              "      <td>2021-08-11</td>\n",
              "      <td>712.710022</td>\n",
              "      <td>715.179993</td>\n",
              "      <td>704.210022</td>\n",
              "      <td>707.820007</td>\n",
              "      <td>9800600</td>\n",
              "    </tr>\n",
              "    <tr>\n",
              "      <th>1256</th>\n",
              "      <td>2021-08-12</td>\n",
              "      <td>706.340027</td>\n",
              "      <td>722.799988</td>\n",
              "      <td>699.400024</td>\n",
              "      <td>722.250000</td>\n",
              "      <td>17459100</td>\n",
              "    </tr>\n",
              "    <tr>\n",
              "      <th>1257</th>\n",
              "      <td>2021-08-13</td>\n",
              "      <td>723.710022</td>\n",
              "      <td>729.900024</td>\n",
              "      <td>714.340027</td>\n",
              "      <td>717.169983</td>\n",
              "      <td>16698900</td>\n",
              "    </tr>\n",
              "  </tbody>\n",
              "</table>\n",
              "<p>1258 rows × 6 columns</p>\n",
              "</div>\n",
              "      <button class=\"colab-df-convert\" onclick=\"convertToInteractive('df-5f807c13-9259-46bf-b9cc-d163913f618f')\"\n",
              "              title=\"Convert this dataframe to an interactive table.\"\n",
              "              style=\"display:none;\">\n",
              "        \n",
              "  <svg xmlns=\"http://www.w3.org/2000/svg\" height=\"24px\"viewBox=\"0 0 24 24\"\n",
              "       width=\"24px\">\n",
              "    <path d=\"M0 0h24v24H0V0z\" fill=\"none\"/>\n",
              "    <path d=\"M18.56 5.44l.94 2.06.94-2.06 2.06-.94-2.06-.94-.94-2.06-.94 2.06-2.06.94zm-11 1L8.5 8.5l.94-2.06 2.06-.94-2.06-.94L8.5 2.5l-.94 2.06-2.06.94zm10 10l.94 2.06.94-2.06 2.06-.94-2.06-.94-.94-2.06-.94 2.06-2.06.94z\"/><path d=\"M17.41 7.96l-1.37-1.37c-.4-.4-.92-.59-1.43-.59-.52 0-1.04.2-1.43.59L10.3 9.45l-7.72 7.72c-.78.78-.78 2.05 0 2.83L4 21.41c.39.39.9.59 1.41.59.51 0 1.02-.2 1.41-.59l7.78-7.78 2.81-2.81c.8-.78.8-2.07 0-2.86zM5.41 20L4 18.59l7.72-7.72 1.47 1.35L5.41 20z\"/>\n",
              "  </svg>\n",
              "      </button>\n",
              "      \n",
              "  <style>\n",
              "    .colab-df-container {\n",
              "      display:flex;\n",
              "      flex-wrap:wrap;\n",
              "      gap: 12px;\n",
              "    }\n",
              "\n",
              "    .colab-df-convert {\n",
              "      background-color: #E8F0FE;\n",
              "      border: none;\n",
              "      border-radius: 50%;\n",
              "      cursor: pointer;\n",
              "      display: none;\n",
              "      fill: #1967D2;\n",
              "      height: 32px;\n",
              "      padding: 0 0 0 0;\n",
              "      width: 32px;\n",
              "    }\n",
              "\n",
              "    .colab-df-convert:hover {\n",
              "      background-color: #E2EBFA;\n",
              "      box-shadow: 0px 1px 2px rgba(60, 64, 67, 0.3), 0px 1px 3px 1px rgba(60, 64, 67, 0.15);\n",
              "      fill: #174EA6;\n",
              "    }\n",
              "\n",
              "    [theme=dark] .colab-df-convert {\n",
              "      background-color: #3B4455;\n",
              "      fill: #D2E3FC;\n",
              "    }\n",
              "\n",
              "    [theme=dark] .colab-df-convert:hover {\n",
              "      background-color: #434B5C;\n",
              "      box-shadow: 0px 1px 3px 1px rgba(0, 0, 0, 0.15);\n",
              "      filter: drop-shadow(0px 1px 2px rgba(0, 0, 0, 0.3));\n",
              "      fill: #FFFFFF;\n",
              "    }\n",
              "  </style>\n",
              "\n",
              "      <script>\n",
              "        const buttonEl =\n",
              "          document.querySelector('#df-5f807c13-9259-46bf-b9cc-d163913f618f button.colab-df-convert');\n",
              "        buttonEl.style.display =\n",
              "          google.colab.kernel.accessAllowed ? 'block' : 'none';\n",
              "\n",
              "        async function convertToInteractive(key) {\n",
              "          const element = document.querySelector('#df-5f807c13-9259-46bf-b9cc-d163913f618f');\n",
              "          const dataTable =\n",
              "            await google.colab.kernel.invokeFunction('convertToInteractive',\n",
              "                                                     [key], {});\n",
              "          if (!dataTable) return;\n",
              "\n",
              "          const docLinkHtml = 'Like what you see? Visit the ' +\n",
              "            '<a target=\"_blank\" href=https://colab.research.google.com/notebooks/data_table.ipynb>data table notebook</a>'\n",
              "            + ' to learn more about interactive tables.';\n",
              "          element.innerHTML = '';\n",
              "          dataTable['output_type'] = 'display_data';\n",
              "          await google.colab.output.renderOutput(dataTable, element);\n",
              "          const docLink = document.createElement('div');\n",
              "          docLink.innerHTML = docLinkHtml;\n",
              "          element.appendChild(docLink);\n",
              "        }\n",
              "      </script>\n",
              "    </div>\n",
              "  </div>\n",
              "  "
            ]
          },
          "metadata": {},
          "execution_count": 41
        }
      ],
      "source": [
        "df"
      ]
    },
    {
      "cell_type": "code",
      "execution_count": null,
      "metadata": {
        "colab": {
          "base_uri": "https://localhost:8080/",
          "height": 424
        },
        "id": "oGdxHEEMa2jw",
        "outputId": "0ea36447-808c-475e-9c9b-c3a93accd5da"
      },
      "outputs": [
        {
          "output_type": "execute_result",
          "data": {
            "text/plain": [
              "            Open        High         Low    Volume\n",
              "0      45.098000   45.438000   44.681999  11335500\n",
              "1      44.866001   44.966000   44.560001   8935500\n",
              "2      44.764000   45.132000   44.458000   8572500\n",
              "3      44.708000   45.034000   44.506001   8297500\n",
              "4      44.834000   45.021999   44.535999  10327500\n",
              "...          ...         ...         ...       ...\n",
              "1253  710.169983  719.030029  705.130005  14715300\n",
              "1254  713.989990  716.590027  701.880005  13432300\n",
              "1255  712.710022  715.179993  704.210022   9800600\n",
              "1256  706.340027  722.799988  699.400024  17459100\n",
              "1257  723.710022  729.900024  714.340027  16698900\n",
              "\n",
              "[1258 rows x 4 columns]"
            ],
            "text/html": [
              "\n",
              "  <div id=\"df-39a08daf-e975-4551-8dad-3ef8acf7afc0\">\n",
              "    <div class=\"colab-df-container\">\n",
              "      <div>\n",
              "<style scoped>\n",
              "    .dataframe tbody tr th:only-of-type {\n",
              "        vertical-align: middle;\n",
              "    }\n",
              "\n",
              "    .dataframe tbody tr th {\n",
              "        vertical-align: top;\n",
              "    }\n",
              "\n",
              "    .dataframe thead th {\n",
              "        text-align: right;\n",
              "    }\n",
              "</style>\n",
              "<table border=\"1\" class=\"dataframe\">\n",
              "  <thead>\n",
              "    <tr style=\"text-align: right;\">\n",
              "      <th></th>\n",
              "      <th>Open</th>\n",
              "      <th>High</th>\n",
              "      <th>Low</th>\n",
              "      <th>Volume</th>\n",
              "    </tr>\n",
              "  </thead>\n",
              "  <tbody>\n",
              "    <tr>\n",
              "      <th>0</th>\n",
              "      <td>45.098000</td>\n",
              "      <td>45.438000</td>\n",
              "      <td>44.681999</td>\n",
              "      <td>11335500</td>\n",
              "    </tr>\n",
              "    <tr>\n",
              "      <th>1</th>\n",
              "      <td>44.866001</td>\n",
              "      <td>44.966000</td>\n",
              "      <td>44.560001</td>\n",
              "      <td>8935500</td>\n",
              "    </tr>\n",
              "    <tr>\n",
              "      <th>2</th>\n",
              "      <td>44.764000</td>\n",
              "      <td>45.132000</td>\n",
              "      <td>44.458000</td>\n",
              "      <td>8572500</td>\n",
              "    </tr>\n",
              "    <tr>\n",
              "      <th>3</th>\n",
              "      <td>44.708000</td>\n",
              "      <td>45.034000</td>\n",
              "      <td>44.506001</td>\n",
              "      <td>8297500</td>\n",
              "    </tr>\n",
              "    <tr>\n",
              "      <th>4</th>\n",
              "      <td>44.834000</td>\n",
              "      <td>45.021999</td>\n",
              "      <td>44.535999</td>\n",
              "      <td>10327500</td>\n",
              "    </tr>\n",
              "    <tr>\n",
              "      <th>...</th>\n",
              "      <td>...</td>\n",
              "      <td>...</td>\n",
              "      <td>...</td>\n",
              "      <td>...</td>\n",
              "    </tr>\n",
              "    <tr>\n",
              "      <th>1253</th>\n",
              "      <td>710.169983</td>\n",
              "      <td>719.030029</td>\n",
              "      <td>705.130005</td>\n",
              "      <td>14715300</td>\n",
              "    </tr>\n",
              "    <tr>\n",
              "      <th>1254</th>\n",
              "      <td>713.989990</td>\n",
              "      <td>716.590027</td>\n",
              "      <td>701.880005</td>\n",
              "      <td>13432300</td>\n",
              "    </tr>\n",
              "    <tr>\n",
              "      <th>1255</th>\n",
              "      <td>712.710022</td>\n",
              "      <td>715.179993</td>\n",
              "      <td>704.210022</td>\n",
              "      <td>9800600</td>\n",
              "    </tr>\n",
              "    <tr>\n",
              "      <th>1256</th>\n",
              "      <td>706.340027</td>\n",
              "      <td>722.799988</td>\n",
              "      <td>699.400024</td>\n",
              "      <td>17459100</td>\n",
              "    </tr>\n",
              "    <tr>\n",
              "      <th>1257</th>\n",
              "      <td>723.710022</td>\n",
              "      <td>729.900024</td>\n",
              "      <td>714.340027</td>\n",
              "      <td>16698900</td>\n",
              "    </tr>\n",
              "  </tbody>\n",
              "</table>\n",
              "<p>1258 rows × 4 columns</p>\n",
              "</div>\n",
              "      <button class=\"colab-df-convert\" onclick=\"convertToInteractive('df-39a08daf-e975-4551-8dad-3ef8acf7afc0')\"\n",
              "              title=\"Convert this dataframe to an interactive table.\"\n",
              "              style=\"display:none;\">\n",
              "        \n",
              "  <svg xmlns=\"http://www.w3.org/2000/svg\" height=\"24px\"viewBox=\"0 0 24 24\"\n",
              "       width=\"24px\">\n",
              "    <path d=\"M0 0h24v24H0V0z\" fill=\"none\"/>\n",
              "    <path d=\"M18.56 5.44l.94 2.06.94-2.06 2.06-.94-2.06-.94-.94-2.06-.94 2.06-2.06.94zm-11 1L8.5 8.5l.94-2.06 2.06-.94-2.06-.94L8.5 2.5l-.94 2.06-2.06.94zm10 10l.94 2.06.94-2.06 2.06-.94-2.06-.94-.94-2.06-.94 2.06-2.06.94z\"/><path d=\"M17.41 7.96l-1.37-1.37c-.4-.4-.92-.59-1.43-.59-.52 0-1.04.2-1.43.59L10.3 9.45l-7.72 7.72c-.78.78-.78 2.05 0 2.83L4 21.41c.39.39.9.59 1.41.59.51 0 1.02-.2 1.41-.59l7.78-7.78 2.81-2.81c.8-.78.8-2.07 0-2.86zM5.41 20L4 18.59l7.72-7.72 1.47 1.35L5.41 20z\"/>\n",
              "  </svg>\n",
              "      </button>\n",
              "      \n",
              "  <style>\n",
              "    .colab-df-container {\n",
              "      display:flex;\n",
              "      flex-wrap:wrap;\n",
              "      gap: 12px;\n",
              "    }\n",
              "\n",
              "    .colab-df-convert {\n",
              "      background-color: #E8F0FE;\n",
              "      border: none;\n",
              "      border-radius: 50%;\n",
              "      cursor: pointer;\n",
              "      display: none;\n",
              "      fill: #1967D2;\n",
              "      height: 32px;\n",
              "      padding: 0 0 0 0;\n",
              "      width: 32px;\n",
              "    }\n",
              "\n",
              "    .colab-df-convert:hover {\n",
              "      background-color: #E2EBFA;\n",
              "      box-shadow: 0px 1px 2px rgba(60, 64, 67, 0.3), 0px 1px 3px 1px rgba(60, 64, 67, 0.15);\n",
              "      fill: #174EA6;\n",
              "    }\n",
              "\n",
              "    [theme=dark] .colab-df-convert {\n",
              "      background-color: #3B4455;\n",
              "      fill: #D2E3FC;\n",
              "    }\n",
              "\n",
              "    [theme=dark] .colab-df-convert:hover {\n",
              "      background-color: #434B5C;\n",
              "      box-shadow: 0px 1px 3px 1px rgba(0, 0, 0, 0.15);\n",
              "      filter: drop-shadow(0px 1px 2px rgba(0, 0, 0, 0.3));\n",
              "      fill: #FFFFFF;\n",
              "    }\n",
              "  </style>\n",
              "\n",
              "      <script>\n",
              "        const buttonEl =\n",
              "          document.querySelector('#df-39a08daf-e975-4551-8dad-3ef8acf7afc0 button.colab-df-convert');\n",
              "        buttonEl.style.display =\n",
              "          google.colab.kernel.accessAllowed ? 'block' : 'none';\n",
              "\n",
              "        async function convertToInteractive(key) {\n",
              "          const element = document.querySelector('#df-39a08daf-e975-4551-8dad-3ef8acf7afc0');\n",
              "          const dataTable =\n",
              "            await google.colab.kernel.invokeFunction('convertToInteractive',\n",
              "                                                     [key], {});\n",
              "          if (!dataTable) return;\n",
              "\n",
              "          const docLinkHtml = 'Like what you see? Visit the ' +\n",
              "            '<a target=\"_blank\" href=https://colab.research.google.com/notebooks/data_table.ipynb>data table notebook</a>'\n",
              "            + ' to learn more about interactive tables.';\n",
              "          element.innerHTML = '';\n",
              "          dataTable['output_type'] = 'display_data';\n",
              "          await google.colab.output.renderOutput(dataTable, element);\n",
              "          const docLink = document.createElement('div');\n",
              "          docLink.innerHTML = docLinkHtml;\n",
              "          element.appendChild(docLink);\n",
              "        }\n",
              "      </script>\n",
              "    </div>\n",
              "  </div>\n",
              "  "
            ]
          },
          "metadata": {},
          "execution_count": 42
        }
      ],
      "source": [
        "features = df.drop(columns=['Date', 'Close'])\n",
        "features"
      ]
    },
    {
      "cell_type": "code",
      "execution_count": null,
      "metadata": {
        "colab": {
          "base_uri": "https://localhost:8080/",
          "height": 424
        },
        "id": "4UDKlnFWcKX0",
        "outputId": "44a777b1-79b3-40d0-b6c6-c93fb545d278"
      },
      "outputs": [
        {
          "output_type": "execute_result",
          "data": {
            "text/plain": [
              "           Close\n",
              "0      44.722000\n",
              "1      44.647999\n",
              "2      44.702000\n",
              "3      45.000000\n",
              "4      44.585999\n",
              "...          ...\n",
              "1253  713.760010\n",
              "1254  709.989990\n",
              "1255  707.820007\n",
              "1256  722.250000\n",
              "1257  717.169983\n",
              "\n",
              "[1258 rows x 1 columns]"
            ],
            "text/html": [
              "\n",
              "  <div id=\"df-904347eb-04b3-43a4-8590-9ddb16966df2\">\n",
              "    <div class=\"colab-df-container\">\n",
              "      <div>\n",
              "<style scoped>\n",
              "    .dataframe tbody tr th:only-of-type {\n",
              "        vertical-align: middle;\n",
              "    }\n",
              "\n",
              "    .dataframe tbody tr th {\n",
              "        vertical-align: top;\n",
              "    }\n",
              "\n",
              "    .dataframe thead th {\n",
              "        text-align: right;\n",
              "    }\n",
              "</style>\n",
              "<table border=\"1\" class=\"dataframe\">\n",
              "  <thead>\n",
              "    <tr style=\"text-align: right;\">\n",
              "      <th></th>\n",
              "      <th>Close</th>\n",
              "    </tr>\n",
              "  </thead>\n",
              "  <tbody>\n",
              "    <tr>\n",
              "      <th>0</th>\n",
              "      <td>44.722000</td>\n",
              "    </tr>\n",
              "    <tr>\n",
              "      <th>1</th>\n",
              "      <td>44.647999</td>\n",
              "    </tr>\n",
              "    <tr>\n",
              "      <th>2</th>\n",
              "      <td>44.702000</td>\n",
              "    </tr>\n",
              "    <tr>\n",
              "      <th>3</th>\n",
              "      <td>45.000000</td>\n",
              "    </tr>\n",
              "    <tr>\n",
              "      <th>4</th>\n",
              "      <td>44.585999</td>\n",
              "    </tr>\n",
              "    <tr>\n",
              "      <th>...</th>\n",
              "      <td>...</td>\n",
              "    </tr>\n",
              "    <tr>\n",
              "      <th>1253</th>\n",
              "      <td>713.760010</td>\n",
              "    </tr>\n",
              "    <tr>\n",
              "      <th>1254</th>\n",
              "      <td>709.989990</td>\n",
              "    </tr>\n",
              "    <tr>\n",
              "      <th>1255</th>\n",
              "      <td>707.820007</td>\n",
              "    </tr>\n",
              "    <tr>\n",
              "      <th>1256</th>\n",
              "      <td>722.250000</td>\n",
              "    </tr>\n",
              "    <tr>\n",
              "      <th>1257</th>\n",
              "      <td>717.169983</td>\n",
              "    </tr>\n",
              "  </tbody>\n",
              "</table>\n",
              "<p>1258 rows × 1 columns</p>\n",
              "</div>\n",
              "      <button class=\"colab-df-convert\" onclick=\"convertToInteractive('df-904347eb-04b3-43a4-8590-9ddb16966df2')\"\n",
              "              title=\"Convert this dataframe to an interactive table.\"\n",
              "              style=\"display:none;\">\n",
              "        \n",
              "  <svg xmlns=\"http://www.w3.org/2000/svg\" height=\"24px\"viewBox=\"0 0 24 24\"\n",
              "       width=\"24px\">\n",
              "    <path d=\"M0 0h24v24H0V0z\" fill=\"none\"/>\n",
              "    <path d=\"M18.56 5.44l.94 2.06.94-2.06 2.06-.94-2.06-.94-.94-2.06-.94 2.06-2.06.94zm-11 1L8.5 8.5l.94-2.06 2.06-.94-2.06-.94L8.5 2.5l-.94 2.06-2.06.94zm10 10l.94 2.06.94-2.06 2.06-.94-2.06-.94-.94-2.06-.94 2.06-2.06.94z\"/><path d=\"M17.41 7.96l-1.37-1.37c-.4-.4-.92-.59-1.43-.59-.52 0-1.04.2-1.43.59L10.3 9.45l-7.72 7.72c-.78.78-.78 2.05 0 2.83L4 21.41c.39.39.9.59 1.41.59.51 0 1.02-.2 1.41-.59l7.78-7.78 2.81-2.81c.8-.78.8-2.07 0-2.86zM5.41 20L4 18.59l7.72-7.72 1.47 1.35L5.41 20z\"/>\n",
              "  </svg>\n",
              "      </button>\n",
              "      \n",
              "  <style>\n",
              "    .colab-df-container {\n",
              "      display:flex;\n",
              "      flex-wrap:wrap;\n",
              "      gap: 12px;\n",
              "    }\n",
              "\n",
              "    .colab-df-convert {\n",
              "      background-color: #E8F0FE;\n",
              "      border: none;\n",
              "      border-radius: 50%;\n",
              "      cursor: pointer;\n",
              "      display: none;\n",
              "      fill: #1967D2;\n",
              "      height: 32px;\n",
              "      padding: 0 0 0 0;\n",
              "      width: 32px;\n",
              "    }\n",
              "\n",
              "    .colab-df-convert:hover {\n",
              "      background-color: #E2EBFA;\n",
              "      box-shadow: 0px 1px 2px rgba(60, 64, 67, 0.3), 0px 1px 3px 1px rgba(60, 64, 67, 0.15);\n",
              "      fill: #174EA6;\n",
              "    }\n",
              "\n",
              "    [theme=dark] .colab-df-convert {\n",
              "      background-color: #3B4455;\n",
              "      fill: #D2E3FC;\n",
              "    }\n",
              "\n",
              "    [theme=dark] .colab-df-convert:hover {\n",
              "      background-color: #434B5C;\n",
              "      box-shadow: 0px 1px 3px 1px rgba(0, 0, 0, 0.15);\n",
              "      filter: drop-shadow(0px 1px 2px rgba(0, 0, 0, 0.3));\n",
              "      fill: #FFFFFF;\n",
              "    }\n",
              "  </style>\n",
              "\n",
              "      <script>\n",
              "        const buttonEl =\n",
              "          document.querySelector('#df-904347eb-04b3-43a4-8590-9ddb16966df2 button.colab-df-convert');\n",
              "        buttonEl.style.display =\n",
              "          google.colab.kernel.accessAllowed ? 'block' : 'none';\n",
              "\n",
              "        async function convertToInteractive(key) {\n",
              "          const element = document.querySelector('#df-904347eb-04b3-43a4-8590-9ddb16966df2');\n",
              "          const dataTable =\n",
              "            await google.colab.kernel.invokeFunction('convertToInteractive',\n",
              "                                                     [key], {});\n",
              "          if (!dataTable) return;\n",
              "\n",
              "          const docLinkHtml = 'Like what you see? Visit the ' +\n",
              "            '<a target=\"_blank\" href=https://colab.research.google.com/notebooks/data_table.ipynb>data table notebook</a>'\n",
              "            + ' to learn more about interactive tables.';\n",
              "          element.innerHTML = '';\n",
              "          dataTable['output_type'] = 'display_data';\n",
              "          await google.colab.output.renderOutput(dataTable, element);\n",
              "          const docLink = document.createElement('div');\n",
              "          docLink.innerHTML = docLinkHtml;\n",
              "          element.appendChild(docLink);\n",
              "        }\n",
              "      </script>\n",
              "    </div>\n",
              "  </div>\n",
              "  "
            ]
          },
          "metadata": {},
          "execution_count": 43
        }
      ],
      "source": [
        "target = df[['Close']]\n",
        "target"
      ]
    },
    {
      "cell_type": "code",
      "execution_count": null,
      "metadata": {
        "id": "sJ-LBhGTcPQt"
      },
      "outputs": [],
      "source": [
        "def sliding_windows_2(data, target, seq_length):\n",
        "    x = []\n",
        "    y = []\n",
        "    n = len(target)\n",
        "\n",
        "    for i in range(n - seq_length - 1):\n",
        "        start_x = i\n",
        "        end_x = i + seq_length\n",
        "\n",
        "        x_i = data[start_x:end_x, :]\n",
        "        y_i = target[end_x]\n",
        "\n",
        "        x.append(x_i)\n",
        "        y.append(y_i)\n",
        "\n",
        "    return np.array(x), np.array(y)"
      ]
    },
    {
      "cell_type": "code",
      "execution_count": null,
      "metadata": {
        "id": "jgrKleqmeOsy"
      },
      "outputs": [],
      "source": [
        "scaler = MinMaxScaler(feature_range=(0, 1))\n",
        "scaled_features = scaler.fit_transform(features)\n",
        "scaled_target = scaler.fit_transform(target)"
      ]
    },
    {
      "cell_type": "code",
      "execution_count": null,
      "metadata": {
        "id": "yaU1SMBDgD3h"
      },
      "outputs": [],
      "source": [
        "seq_length = 20\n",
        "X, y = sliding_windows_2(scaled_features, scaled_target, seq_length)"
      ]
    },
    {
      "cell_type": "code",
      "execution_count": null,
      "metadata": {
        "colab": {
          "base_uri": "https://localhost:8080/"
        },
        "id": "RcqdmvCmgigp",
        "outputId": "f0de22d5-2830-4542-99c7-e87c4be3f0a5"
      },
      "outputs": [
        {
          "output_type": "execute_result",
          "data": {
            "text/plain": [
              "array([[0.01038168, 0.00983492, 0.01110258, 0.01024978],\n",
              "       [0.01011039, 0.00928828, 0.01095669, 0.00215252],\n",
              "       [0.00999111, 0.00948053, 0.0108347 , 0.00092781],\n",
              "       [0.00992563, 0.00936703, 0.01089211, 0.        ],\n",
              "       [0.01007297, 0.00935313, 0.01092798, 0.00684893],\n",
              "       [0.01010805, 0.01013604, 0.01095669, 0.05271486],\n",
              "       [0.01074653, 0.00982565, 0.01081796, 0.0153713 ],\n",
              "       [0.00982506, 0.0090497 , 0.01047115, 0.00173754],\n",
              "       [0.0095982 , 0.00883197, 0.01000476, 0.00977576],\n",
              "       [0.00913279, 0.00826217, 0.00909111, 0.02710558],\n",
              "       [0.00818794, 0.00726848, 0.00801959, 0.02546251],\n",
              "       [0.00685953, 0.00645547, 0.00757233, 0.02727765],\n",
              "       [0.00652743, 0.00610803, 0.00562304, 0.1059999 ],\n",
              "       [0.00496515, 0.00427817, 0.00459459, 0.07283993],\n",
              "       [0.00419103, 0.00428975, 0.00526428, 0.04607173],\n",
              "       [0.00570653, 0.00504254, 0.00567327, 0.03342482],\n",
              "       [0.00431498, 0.00351148, 0.00463285, 0.0289882 ],\n",
              "       [0.0042074 , 0.00351843, 0.00399665, 0.03538335],\n",
              "       [0.00325085, 0.00385429, 0.00409231, 0.03467821],\n",
              "       [0.00373263, 0.0031872 , 0.00393685, 0.03255605]])"
            ]
          },
          "metadata": {},
          "execution_count": 47
        }
      ],
      "source": [
        "X[0]"
      ]
    },
    {
      "cell_type": "code",
      "execution_count": null,
      "metadata": {
        "colab": {
          "base_uri": "https://localhost:8080/"
        },
        "id": "QQUikkdZgkmP",
        "outputId": "20481e70-5aed-427b-b2f8-16e55968a3c1"
      },
      "outputs": [
        {
          "output_type": "execute_result",
          "data": {
            "text/plain": [
              "array([0.00411663])"
            ]
          },
          "metadata": {},
          "execution_count": 48
        }
      ],
      "source": [
        "y[0]"
      ]
    },
    {
      "cell_type": "code",
      "execution_count": null,
      "metadata": {
        "id": "HtR5YDS8gmoM"
      },
      "outputs": [],
      "source": [
        "train_size = int(len(y) * 0.8)\n",
        "test_size = len(y) - train_size\n",
        "\n",
        "dataX = Variable(torch.Tensor(np.array(X)))\n",
        "dataY = Variable(torch.Tensor(np.array(y)))\n",
        "\n",
        "X_train = Variable(torch.Tensor(np.array(X[0:train_size, :])))\n",
        "y_train = Variable(torch.Tensor(np.array(y[0:train_size])))\n",
        "\n",
        "X_test = Variable(torch.Tensor(np.array(X[train_size:len(X), :])))\n",
        "y_test = Variable(torch.Tensor(np.array(y[train_size:len(y)])))"
      ]
    },
    {
      "cell_type": "code",
      "execution_count": null,
      "metadata": {
        "colab": {
          "base_uri": "https://localhost:8080/"
        },
        "id": "LVBpV2EIg6B_",
        "outputId": "213497fa-4c4a-4a06-a4e1-86aa47f8d0ca"
      },
      "outputs": [
        {
          "output_type": "stream",
          "name": "stdout",
          "text": [
            "X_train:  torch.Size([989, 20, 4])\n",
            "y_train:  torch.Size([989, 1])\n",
            "X_test:  torch.Size([248, 20, 4])\n",
            "y_test torch.Size([248, 1])\n"
          ]
        }
      ],
      "source": [
        "print(\"X_train: \", X_train.shape)\n",
        "print(\"y_train: \", y_train.shape)\n",
        "print(\"X_test: \", X_test.shape)\n",
        "print(\"y_test\", y_test.shape)"
      ]
    },
    {
      "cell_type": "code",
      "execution_count": null,
      "metadata": {
        "id": "HiGpdANkg-HY"
      },
      "outputs": [],
      "source": [
        "# parameters\n",
        "\n",
        "num_epochs = 1000\n",
        "learning_rate = 0.01\n",
        "\n",
        "input_size = 4\n",
        "hidden_size = 32\n",
        "num_layers = 1\n",
        "\n",
        "num_classes = 1"
      ]
    },
    {
      "cell_type": "code",
      "execution_count": null,
      "metadata": {
        "colab": {
          "base_uri": "https://localhost:8080/"
        },
        "id": "JrGkQhn3hGdQ",
        "outputId": "465546c8-0a7a-4098-b53d-4b03588e5b72"
      },
      "outputs": [
        {
          "output_type": "execute_result",
          "data": {
            "text/plain": [
              "LSTM(\n",
              "  (lstm): LSTM(4, 32, batch_first=True)\n",
              "  (fc): Linear(in_features=32, out_features=1, bias=True)\n",
              ")"
            ]
          },
          "metadata": {},
          "execution_count": 28
        }
      ],
      "source": [
        "lstm_2 = LSTM(num_classes, input_size, hidden_size, num_layers)\n",
        "lstm_2"
      ]
    },
    {
      "cell_type": "code",
      "execution_count": null,
      "metadata": {
        "colab": {
          "base_uri": "https://localhost:8080/"
        },
        "id": "5YSfqaXahKr0",
        "outputId": "14d79911-fea1-48fc-eaeb-e25cd240abe2"
      },
      "outputs": [
        {
          "output_type": "stream",
          "name": "stdout",
          "text": [
            "Epoch: 0, Training Loss: 0.004577559884637594, Test Loss: 0.4641024172306061\n",
            "Epoch: 100, Training Loss: 4.742761666420847e-05, Test Loss: 0.0017571458593010902\n",
            "Epoch: 200, Training Loss: 4.1718136344570667e-05, Test Loss: 0.005142818205058575\n",
            "Epoch: 300, Training Loss: 3.4786109608830884e-05, Test Loss: 0.04764746502041817\n",
            "Epoch: 400, Training Loss: 3.267152715125121e-05, Test Loss: 0.05342425778508186\n",
            "Epoch: 500, Training Loss: 3.347856909385882e-05, Test Loss: 0.030017461627721786\n",
            "Epoch: 600, Training Loss: 3.590175401768647e-05, Test Loss: 0.0009128947858698666\n",
            "Epoch: 700, Training Loss: 3.3191146940225735e-05, Test Loss: 0.0010481888893991709\n",
            "Epoch: 800, Training Loss: 2.7797072107205167e-05, Test Loss: 0.05991337448358536\n",
            "Epoch: 900, Training Loss: 2.6169487682636827e-05, Test Loss: 0.043270282447338104\n"
          ]
        }
      ],
      "source": [
        "criterion = torch.nn.MSELoss()\n",
        "optimizer = torch.optim.Adam(lstm_2.parameters(), lr=learning_rate)\n",
        "\n",
        "train_losses = []\n",
        "test_losses = []\n",
        "\n",
        "for epoch in range(num_epochs):\n",
        "    lstm_2.train()\n",
        "\n",
        "    output_train = lstm_2(X_train)\n",
        "    optimizer.zero_grad()\n",
        "\n",
        "    # obtain the loss function\n",
        "    loss_train = criterion(output_train, y_train)\n",
        "    train_losses.append(loss_train.item())\n",
        "\n",
        "    loss_train.backward()\n",
        "    optimizer.step()\n",
        "\n",
        "    lstm_2.eval()\n",
        "    output_test = lstm_2(X_test)\n",
        "    loss_test = criterion(output_test, y_test)\n",
        "    test_losses.append(loss_test.item())\n",
        "\n",
        "\n",
        "    if epoch % 100 == 0:\n",
        "      print(f\"Epoch: {epoch}, Training Loss: {loss_train.item()}, Test Loss: {loss_test.item()}\")\n"
      ]
    },
    {
      "cell_type": "code",
      "execution_count": null,
      "metadata": {
        "colab": {
          "base_uri": "https://localhost:8080/",
          "height": 452
        },
        "id": "0pI7po2WhWyF",
        "outputId": "d5e80d7d-737c-475f-d4c8-2e35bb4bf9e0"
      },
      "outputs": [
        {
          "output_type": "display_data",
          "data": {
            "text/plain": [
              "<Figure size 640x480 with 1 Axes>"
            ],
            "image/png": "[encoded data removed]"
          },
          "metadata": {}
        }
      ],
      "source": [
        "plt.title(\"Multivariate LSTM-Training and Test Losses\")\n",
        "plt.plot(train_losses, label='Training')\n",
        "plt.plot(test_losses, label='Test')\n",
        "plt.legend()\n",
        "plt.show()"
      ]
    },
    {
      "cell_type": "code",
      "execution_count": null,
      "metadata": {
        "colab": {
          "base_uri": "https://localhost:8080/",
          "height": 478
        },
        "id": "ciZVFqvRhjaD",
        "outputId": "7b7fd12d-2973-4577-97b9-e9ca793d7ce6"
      },
      "outputs": [
        {
          "output_type": "display_data",
          "data": {
            "text/plain": [
              "<Figure size 640x480 with 1 Axes>"
            ],
            "image/png": "[encoded data removed]"
          },
          "metadata": {}
        }
      ],
      "source": [
        "lstm_2.eval()\n",
        "train_predict = lstm_2(dataX)\n",
        "\n",
        "data_predict = train_predict.data.numpy()\n",
        "dataY_plot = dataY.data.numpy()\n",
        "\n",
        "# Transform back to original form\n",
        "data_predict = scaler.inverse_transform(data_predict)\n",
        "dataY_plot = scaler.inverse_transform(dataY_plot)\n",
        "\n",
        "plt.axvline(x=train_size, c='r', linestyle='--')\n",
        "\n",
        "plt.plot(dataY_plot, color='b')\n",
        "plt.plot(data_predict, color='y')\n",
        "plt.legend([\"Test/Train split\", \"True\", \"Prediction\"], loc =\"upper left\")\n",
        "\n",
        "plt.suptitle('Multuvariate LSTM-Time-Series Prediction')\n",
        "plt.show()"
      ]
    },
    {
      "cell_type": "markdown",
      "metadata": {
        "id": "kbiTQfZ7q3oS"
      },
      "source": [
        "**Not so good! Let's change the hidden_size:**"
      ]
    },
    {
      "cell_type": "code",
      "execution_count": null,
      "metadata": {
        "id": "LpkgTlIrjdwX"
      },
      "outputs": [],
      "source": [
        "num_epochs = 1000\n",
        "learning_rate = 0.01\n",
        "\n",
        "input_size = 4\n",
        "hidden_size = 80 # 20 * 4\n",
        "num_layers = 1\n",
        "\n",
        "num_classes = 1"
      ]
    },
    {
      "cell_type": "code",
      "execution_count": null,
      "metadata": {
        "colab": {
          "base_uri": "https://localhost:8080/"
        },
        "id": "cfqUKFp9no8A",
        "outputId": "438b7dad-1d02-487b-e798-d260d651bf05"
      },
      "outputs": [
        {
          "output_type": "execute_result",
          "data": {
            "text/plain": [
              "LSTM(\n",
              "  (lstm): LSTM(4, 80, batch_first=True)\n",
              "  (fc): Linear(in_features=80, out_features=1, bias=True)\n",
              ")"
            ]
          },
          "metadata": {},
          "execution_count": 52
        }
      ],
      "source": [
        "lstm_3 = LSTM(num_classes, input_size, hidden_size, num_layers)\n",
        "lstm_3"
      ]
    },
    {
      "cell_type": "code",
      "execution_count": null,
      "metadata": {
        "colab": {
          "base_uri": "https://localhost:8080/"
        },
        "id": "UdVBig8Sn_0D",
        "outputId": "7ca64d56-ac4e-4ac3-d6d9-e7ea1cd8135e"
      },
      "outputs": [
        {
          "output_type": "stream",
          "name": "stdout",
          "text": [
            "Epoch: 0, Training Loss: 0.021814770996570587, Test Loss: 0.26329511404037476\n",
            "Epoch: 100, Training Loss: 4.3958938476862386e-05, Test Loss: 0.0020806912798434496\n",
            "Epoch: 200, Training Loss: 4.0705523133510724e-05, Test Loss: 0.0010344493202865124\n",
            "Epoch: 300, Training Loss: 3.8598627725150436e-05, Test Loss: 0.0009667733102105558\n",
            "Epoch: 400, Training Loss: 3.666767224785872e-05, Test Loss: 0.00094661331968382\n",
            "Epoch: 500, Training Loss: 3.5246190236648545e-05, Test Loss: 0.0010563799878582358\n",
            "Epoch: 600, Training Loss: 3.347423262312077e-05, Test Loss: 0.003080989932641387\n",
            "Epoch: 700, Training Loss: 3.546531297615729e-05, Test Loss: 0.0016606771387159824\n",
            "Epoch: 800, Training Loss: 3.428312629694119e-05, Test Loss: 0.0010751168010756373\n",
            "Epoch: 900, Training Loss: 3.3368138247169554e-05, Test Loss: 0.0009576787706464529\n"
          ]
        }
      ],
      "source": [
        "criterion = torch.nn.MSELoss()\n",
        "optimizer = torch.optim.Adam(lstm_3.parameters(), lr=learning_rate)\n",
        "\n",
        "train_losses = []\n",
        "test_losses = []\n",
        "\n",
        "for epoch in range(num_epochs):\n",
        "    lstm_3.train()\n",
        "\n",
        "    output_train = lstm_3(X_train)\n",
        "    optimizer.zero_grad()\n",
        "\n",
        "    # obtain the loss function\n",
        "    loss_train = criterion(output_train, y_train)\n",
        "    train_losses.append(loss_train.item())\n",
        "\n",
        "    loss_train.backward()\n",
        "    optimizer.step()\n",
        "\n",
        "    lstm_3.eval()\n",
        "    output_test = lstm_3(X_test)\n",
        "    loss_test = criterion(output_test, y_test)\n",
        "    test_losses.append(loss_test.item())\n",
        "\n",
        "\n",
        "    if epoch % 100 == 0:\n",
        "      print(f\"Epoch: {epoch}, Training Loss: {loss_train.item()}, Test Loss: {loss_test.item()}\")\n"
      ]
    },
    {
      "cell_type": "code",
      "source": [
        "plt.title(\"Multivariate LSTM-Training and Test Losses\")\n",
        "plt.plot(train_losses, label='Training')\n",
        "plt.plot(test_losses, label='Test')\n",
        "plt.legend()\n",
        "plt.show()"
      ],
      "metadata": {
        "colab": {
          "base_uri": "https://localhost:8080/",
          "height": 452
        },
        "id": "7pekO83LIXGr",
        "outputId": "bac76c98-8739-499a-c94d-7d6892ecb2e7"
      },
      "execution_count": null,
      "outputs": [
        {
          "output_type": "display_data",
          "data": {
            "text/plain": [
              "<Figure size 640x480 with 1 Axes>"
            ],
            "image/png": "[encoded data removed]"
          },
          "metadata": {}
        }
      ]
    },
    {
      "cell_type": "code",
      "execution_count": null,
      "metadata": {
        "colab": {
          "base_uri": "https://localhost:8080/",
          "height": 478
        },
        "id": "1rrAzQe7qt6i",
        "outputId": "6b1a8792-9356-45fc-bcf0-3645af0d3d7d"
      },
      "outputs": [
        {
          "output_type": "display_data",
          "data": {
            "text/plain": [
              "<Figure size 640x480 with 1 Axes>"
            ],
            "image/png": "[encoded data removed]"
          },
          "metadata": {}
        }
      ],
      "source": [
        "lstm_3.eval()\n",
        "train_predict = lstm_3(dataX)\n",
        "\n",
        "data_predict = train_predict.data.numpy()\n",
        "dataY_plot = dataY.data.numpy()\n",
        "\n",
        "# Transform back to original form\n",
        "data_predict = scaler.inverse_transform(data_predict)\n",
        "dataY_plot = scaler.inverse_transform(dataY_plot)\n",
        "\n",
        "plt.axvline(x=train_size, c='r', linestyle='--')\n",
        "\n",
        "plt.plot(dataY_plot, color='b')\n",
        "plt.plot(data_predict, color='y')\n",
        "plt.legend([\"Test/Train split\", \"True\", \"Prediction\"], loc =\"upper left\")\n",
        "\n",
        "plt.suptitle('Multivariate LSTM-Time-Series Prediction')\n",
        "plt.show()"
      ]
    },
    {
      "cell_type": "markdown",
      "metadata": {
        "id": "lQ4vITLYtEXu"
      },
      "source": [
        "**Much better! Now we get the test evaluation metrics:**"
      ]
    },
    {
      "cell_type": "code",
      "execution_count": null,
      "metadata": {
        "colab": {
          "base_uri": "https://localhost:8080/"
        },
        "id": "FJ3U7Cg6rQQ5",
        "outputId": "9697a4f9-0abd-4a6f-f8ee-1048830e163a"
      },
      "outputs": [
        {
          "output_type": "stream",
          "name": "stdout",
          "text": [
            "Multivariate LSTM: Test data MAE:  20.28322074571947\n",
            "Multivariate LSTM: Test data MSE:  714.1189233751786\n",
            "Multivariate LSTM: Test data r2_score:  0.9615743387077449\n"
          ]
        }
      ],
      "source": [
        "test_predict = lstm_3(X_test).detach().numpy()\n",
        "test_predict = scaler.inverse_transform(test_predict)\n",
        "original_ytest = scaler.inverse_transform(y_test.reshape(-1,1))\n",
        "\n",
        "print(\"Multivariate LSTM: Test data MAE: \", mean_absolute_error(original_ytest,test_predict))\n",
        "print(\"Multivariate LSTM: Test data MSE: \",mean_squared_error(original_ytest,test_predict))\n",
        "print(\"Multivariate LSTM: Test data r2_score: \", r2_score(original_ytest,test_predict))"
      ]
    },
    {
      "cell_type": "code",
      "execution_count": null,
      "metadata": {
        "colab": {
          "background_save": true
        },
        "id": "e8sA3MkjtJip"
      },
      "outputs": [],
      "source": []
    }
  ],
  "metadata": {
    "colab": {
      "provenance": [],
      "include_colab_link": true
    },
    "kernelspec": {
      "display_name": "Python 3",
      "name": "python3"
    },
    "language_info": {
      "name": "python"
    }
  },
  "nbformat": 4,
  "nbformat_minor": 0
}