{
 "cells": [
  {
   "cell_type": "code",
   "execution_count": 1,
   "metadata": {
    "id": "kuGcEV11wWqm"
   },
   "outputs": [],
   "source": [
    "import torch\n",
    "import torch.nn as nn\n",
    "from torchvision.datasets import EMNIST\n",
    "from torch.utils.data import DataLoader\n",
    "import torchvision.transforms as transforms\n",
    "import torch.nn.functional as F\n",
    "from torch.utils.data.sampler import SubsetRandomSampler\n",
    "import numpy as np"
   ]
  },
  {
   "cell_type": "code",
   "execution_count": 2,
   "metadata": {
    "colab": {
     "base_uri": "https://localhost:8080/",
     "height": 84,
     "referenced_widgets": [
      "9c2ebd4ea414470086e0f929ee57c8b9",
      "402dfc9dbb1d448d809482d9adccf0b4",
      "daa28b9e88aa42c681d5c6935e2a7c2f",
      "21ff012d627142099d3a6a2afceb2d00",
      "ac47b8e6978046d298d0caae58a94922",
      "f8d1700b8b6844eb95277e7218aea2f8",
      "7c5a722d2ea540c1b4b79f98b52b5c20",
      "1f4cc556075347b2b9ca936e4648294b",
      "04c21a9f5c0e4e699d14a50042d93eae",
      "c483d03b772d42b4b88110b694154e4a",
      "d473155df5704a4d8f943785e9fda0fb"
     ]
    },
    "id": "6inZH_gNwx3o",
    "outputId": "1057c28a-c6ea-4fc6-e4c2-f5e33b7d6790"
   },
   "outputs": [
    {
     "name": "stdout",
     "output_type": "stream",
     "text": [
      "Downloading https://www.itl.nist.gov/iaui/vip/cs_links/EMNIST/gzip.zip to ./data/EMNIST/raw/gzip.zip\n"
     ]
    },
    {
     "data": {
      "application/vnd.jupyter.widget-view+json": {
       "model_id": "9c2ebd4ea414470086e0f929ee57c8b9",
       "version_major": 2,
       "version_minor": 0
      },
      "text/plain": [
       "  0%|          | 0/561753746 [00:00<?, ?it/s]"
      ]
     },
     "metadata": {},
     "output_type": "display_data"
    },
    {
     "name": "stdout",
     "output_type": "stream",
     "text": [
      "Extracting ./data/EMNIST/raw/gzip.zip to ./data/EMNIST/raw\n"
     ]
    }
   ],
   "source": [
    "number_workers = 0 # number of subprocesses to use for data loading\n",
    "batch_size = 32\n",
    "validation_size = 0.2 # percentage of training set to use as validation\n",
    "\n",
    "train_dataset = EMNIST('./data', \n",
    "                       split='balanced',\n",
    "                       train=True, \n",
    "                       download=True, \n",
    "                       transform=transforms.ToTensor())\n",
    "\n",
    "test_dataset = EMNIST('./data', \n",
    "                      split='balanced',\n",
    "                      train=False, \n",
    "                      transform=transforms.ToTensor())\n",
    "\n",
    "train_loader = DataLoader(dataset=train_dataset, \n",
    "                          batch_size=batch_size, \n",
    "                          shuffle=True)\n",
    "\n",
    "test_loader = DataLoader(dataset=test_dataset, \n",
    "                         batch_size=batch_size, \n",
    "                         shuffle=False)"
   ]
  },
  {
   "cell_type": "code",
   "execution_count": 3,
   "metadata": {
    "id": "qBXCW2phw3ay"
   },
   "outputs": [],
   "source": [
    "# obtain the indices that will be used for validation\n",
    "number_of_train = len(train_dataset)\n",
    "train_indices = list(range(number_of_train))\n",
    "np.random.shuffle(train_indices)\n",
    "splitting = int(np.floor(validation_size * number_of_train))\n",
    "training_index, validation_index = train_indices[splitting:], train_indices[:splitting]\n",
    "\n",
    "#  define samplers for obtaining training and validation batches\n",
    "training_sampler = SubsetRandomSampler(training_index)\n",
    "validation_sampler = SubsetRandomSampler(validation_index)\n",
    "\n",
    "# preparation of data loaders\n",
    "train_loader_batch = DataLoader(train_dataset, batch_size = batch_size, sampler = training_sampler, num_workers = number_workers)\n",
    "validation_loader_batch = DataLoader(train_dataset, batch_size = batch_size,sampler = validation_sampler, num_workers = number_workers)\n",
    "test_loader_batch = DataLoader(test_dataset, batch_size = batch_size, num_workers = number_workers)"
   ]
  },
  {
   "cell_type": "code",
   "execution_count": 4,
   "metadata": {
    "colab": {
     "base_uri": "https://localhost:8080/"
    },
    "id": "D-WvHrp2xBSr",
    "outputId": "a3acc922-b2d3-4add-c062-13554d249759"
   },
   "outputs": [
    {
     "name": "stdout",
     "output_type": "stream",
     "text": [
      "MLP(\n",
      "  (fc1): Linear(in_features=784, out_features=512, bias=True)\n",
      "  (bn1): BatchNorm1d(512, eps=1e-05, momentum=0.1, affine=True, track_running_stats=True)\n",
      "  (fc2): Linear(in_features=512, out_features=512, bias=True)\n",
      "  (bn2): BatchNorm1d(512, eps=1e-05, momentum=0.1, affine=True, track_running_stats=True)\n",
      "  (fc3): Linear(in_features=512, out_features=47, bias=True)\n",
      "  (dropout): Dropout(p=0.2, inplace=False)\n",
      ")\n"
     ]
    }
   ],
   "source": [
    "# define the NN architecture\n",
    "class MLP(nn.Module):\n",
    "    def __init__(self):\n",
    "        super(MLP, self).__init__()\n",
    "\n",
    "        # number of hidden neurons in each layer\n",
    "        hidden_1 = 512\n",
    "        hidden_2 = 512\n",
    "        # hidden_3 = 256\n",
    "\n",
    "        self.fc1 = nn.Linear(28 * 28, hidden_1) # linear layer (28*28=784 -> hidden_1)\n",
    "        self.bn1 = nn.BatchNorm1d(hidden_1) # batch normalization layer\n",
    "\n",
    "        self.fc2 = nn.Linear(hidden_1, hidden_2) \n",
    "        self.bn2 = nn.BatchNorm1d(hidden_2)\n",
    "\n",
    "        # self.fc3 = nn.Linear(hidden_2, hidden_3) \n",
    "        # self.bn3 = nn.BatchNorm1d(hidden_3) \n",
    "\n",
    "        self.fc3 = nn.Linear(hidden_2, 47) # output layer\n",
    "\n",
    "        self.dropout = nn.Dropout(0.2) # dropout layer\n",
    "\n",
    "    def forward(self, x):\n",
    "        # flatten image input\n",
    "        x = x.view(-1, 28 * 28)\n",
    "\n",
    "        # add hidden layer, with relu activation function\n",
    "        x = F.relu(self.bn1(self.fc1(x)))\n",
    "        # add dropout layer\n",
    "        x = self.dropout(x)\n",
    "\n",
    "        # add hidden layer, with relu activation function\n",
    "        x = F.relu(self.bn2(self.fc2(x)))\n",
    "        # add dropout layer\n",
    "        x = self.dropout(x)\n",
    "\n",
    "        # # add hidden layer, with relu activation function\n",
    "        # x = F.relu(self.bn3(self.fc3(x)))\n",
    "        # # add dropout layer\n",
    "        # x = self.dropout(x)\n",
    "\n",
    "        # add output layer\n",
    "        x = self.fc3(x)\n",
    "        return x\n",
    "\n",
    "# initialize the NN\n",
    "model = MLP()\n",
    "print(model)"
   ]
  },
  {
   "cell_type": "code",
   "execution_count": 5,
   "metadata": {
    "id": "0uVOJy6Cxi_T"
   },
   "outputs": [],
   "source": [
    "# specify loss function (categorical cross-entropy)\n",
    "criterion = nn.CrossEntropyLoss()\n",
    "\n",
    "# specify optimizer (stochastic gradient descent) and learning rate = 0.01\n",
    "optimizer = torch.optim.SGD(model.parameters(), lr=0.01)"
   ]
  },
  {
   "cell_type": "code",
   "execution_count": 6,
   "metadata": {
    "colab": {
     "base_uri": "https://localhost:8080/"
    },
    "id": "6MCb0XbdyF2h",
    "outputId": "9466bab3-4215-4989-d7f4-df33e143d4b8"
   },
   "outputs": [
    {
     "name": "stdout",
     "output_type": "stream",
     "text": [
      "Epoch: 1 \tTraining Loss: 1.325321 \tValidation Loss: 0.147325\n",
      "Validation loss decreased (inf --> 0.147325).  Saving model ...\n",
      "Epoch: 2 \tTraining Loss: 0.814916 \tValidation Loss: 0.112608\n",
      "Validation loss decreased (0.147325 --> 0.112608).  Saving model ...\n",
      "Epoch: 3 \tTraining Loss: 0.698738 \tValidation Loss: 0.099987\n",
      "Validation loss decreased (0.112608 --> 0.099987).  Saving model ...\n",
      "Epoch: 4 \tTraining Loss: 0.638826 \tValidation Loss: 0.088761\n",
      "Validation loss decreased (0.099987 --> 0.088761).  Saving model ...\n",
      "Epoch: 5 \tTraining Loss: 0.596751 \tValidation Loss: 0.084991\n",
      "Validation loss decreased (0.088761 --> 0.084991).  Saving model ...\n",
      "Epoch: 6 \tTraining Loss: 0.566546 \tValidation Loss: 0.078980\n",
      "Validation loss decreased (0.084991 --> 0.078980).  Saving model ...\n",
      "Epoch: 7 \tTraining Loss: 0.541298 \tValidation Loss: 0.075013\n",
      "Validation loss decreased (0.078980 --> 0.075013).  Saving model ...\n",
      "Epoch: 8 \tTraining Loss: 0.521759 \tValidation Loss: 0.071880\n",
      "Validation loss decreased (0.075013 --> 0.071880).  Saving model ...\n",
      "Epoch: 9 \tTraining Loss: 0.507670 \tValidation Loss: 0.070263\n",
      "Validation loss decreased (0.071880 --> 0.070263).  Saving model ...\n",
      "Epoch: 10 \tTraining Loss: 0.493032 \tValidation Loss: 0.067702\n",
      "Validation loss decreased (0.070263 --> 0.067702).  Saving model ...\n",
      "Training process has finished.\n"
     ]
    }
   ],
   "source": [
    "# number of epochs to train the model\n",
    "n_epochs = 10\n",
    "\n",
    "# initialize tracker for minimum validation loss\n",
    "valid_loss_min = np.Inf # set initial \"min\" to infinity\n",
    "\n",
    "for epoch in range(n_epochs):\n",
    "    # monitor training loss\n",
    "    train_loss = 0.0\n",
    "    valid_loss = 0.0\n",
    "    \n",
    "    ###################\n",
    "    # train the model #\n",
    "    ###################\n",
    "    model.train() # prep model for training\n",
    "    for data, target in train_loader:\n",
    "        # clear the gradients of all optimized variables\n",
    "        optimizer.zero_grad()\n",
    "        # forward pass: compute predicted outputs by passing inputs to the model\n",
    "        output = model(data)\n",
    "        # calculate the loss\n",
    "        loss = criterion(output, target)\n",
    "        # backward pass: compute gradient of the loss with respect to model parameters\n",
    "        loss.backward()\n",
    "        # perform a single optimization step (parameter update)\n",
    "        optimizer.step()\n",
    "        # update running training loss\n",
    "        train_loss += loss.item()*data.size(0)\n",
    "        \n",
    "    ######################    \n",
    "    # validate the model #\n",
    "    ######################\n",
    "    model.eval() # prep model for evaluation\n",
    "    for data, target in validation_loader_batch:\n",
    "        # forward pass: compute predicted outputs by passing inputs to the model\n",
    "        output = model(data)\n",
    "        # calculate the loss\n",
    "        loss = criterion(output, target)\n",
    "        # update running validation loss \n",
    "        valid_loss += loss.item()*data.size(0)\n",
    "        \n",
    "    # print training/validation statistics \n",
    "    # calculate average loss over an epoch\n",
    "    train_loss = train_loss/len(train_loader.dataset)\n",
    "    valid_loss = valid_loss/len(validation_loader_batch.dataset)\n",
    "    \n",
    "    print('Epoch: {} \\tTraining Loss: {:.6f} \\tValidation Loss: {:.6f}'.format(\n",
    "        epoch+1, \n",
    "        train_loss,\n",
    "        valid_loss\n",
    "        ))\n",
    "    \n",
    "    # save model if validation loss has decreased\n",
    "    if valid_loss <= valid_loss_min:\n",
    "        print('Validation loss decreased ({:.6f} --> {:.6f}).  Saving model ...'.format(\n",
    "        valid_loss_min,\n",
    "        valid_loss))\n",
    "        torch.save(model.state_dict(), 'model.pt')\n",
    "        valid_loss_min = valid_loss\n",
    "\n",
    "\n",
    "print('Training process has finished.')"
   ]
  },
  {
   "cell_type": "code",
   "execution_count": null,
   "metadata": {
    "colab": {
     "base_uri": "https://localhost:8080/"
    },
    "id": "lgdhio1iyO39",
    "outputId": "ca3608d1-03f3-472a-e341-62c0afdd3ac8"
   },
   "outputs": [
    {
     "name": "stdout",
     "output_type": "stream",
     "text": [
      "Test Accuracy: 85% (16070 out of 18800)\n"
     ]
    }
   ],
   "source": [
    "testing_loss = 0.0\n",
    "class_corrected = list(0. for i in range(47))\n",
    "class_total = list(0. for i in range(47))\n",
    "\n",
    "model.eval() # preparing the model for evaluation\n",
    "\n",
    "for data, target in test_loader_batch:\n",
    "  # forward passing as in this computing the predicted outputs by passing the inputs to the model\n",
    "    output = model(data) \n",
    "    loss = criterion(output,target) # calculating the loss\n",
    "    testing_loss += loss.item()*data.size(0) # updating the running validation loss\n",
    "    _, predictions = torch.max(output, 1) # converting the output probabilities to predicted class\n",
    "    # comparing the predictions to true label\n",
    "    corrected = np.squeeze(predictions.eq(target.data.view_as(predictions))) \n",
    "\n",
    "    for vals in range(len(target)): # calculating the test accuracy for each object class\n",
    "        label = target.data[vals]\n",
    "        class_corrected[label] += corrected[vals].item()\n",
    "        class_total[label] += 1\n",
    "\n",
    "print('Test Accuracy: %2d%% (%2d out of %2d)' % (100. * np.sum(class_corrected) / np.sum(class_total), np.sum(class_corrected), np.sum(class_total)))"
   ]
  }
 ],
 "metadata": {
  "accelerator": "GPU",
  "colab": {
   "provenance": []
  },
  "gpuClass": "standard",
  "kernelspec": {
   "display_name": "Python 3 (ipykernel)",
   "language": "python",
   "name": "python3"
  },
  "language_info": {
   "codemirror_mode": {
    "name": "ipython",
    "version": 3
   },
   "file_extension": ".py",
   "mimetype": "text/x-python",
   "name": "python",
   "nbconvert_exporter": "python",
   "pygments_lexer": "ipython3",
   "version": "3.8.10"
  },
  "widgets": {
   "application/vnd.jupyter.widget-state+json": {
    "04c21a9f5c0e4e699d14a50042d93eae": {
     "model_module": "@jupyter-widgets/controls",
     "model_module_version": "1.5.0",
     "model_name": "ProgressStyleModel",
     "state": {
      "_model_module": "@jupyter-widgets/controls",
      "_model_module_version": "1.5.0",
      "_model_name": "ProgressStyleModel",
      "_view_count": null,
      "_view_module": "@jupyter-widgets/base",
      "_view_module_version": "1.2.0",
      "_view_name": "StyleView",
      "bar_color": null,
      "description_width": ""
     }
    },
    "1f4cc556075347b2b9ca936e4648294b": {
     "model_module": "@jupyter-widgets/base",
     "model_module_version": "1.2.0",
     "model_name": "LayoutModel",
     "state": {
      "_model_module": "@jupyter-widgets/base",
      "_model_module_version": "1.2.0",
      "_model_name": "LayoutModel",
      "_view_count": null,
      "_view_module": "@jupyter-widgets/base",
      "_view_module_version": "1.2.0",
      "_view_name": "LayoutView",
      "align_content": null,
      "align_items": null,
      "align_self": null,
      "border": null,
      "bottom": null,
      "display": null,
      "flex": null,
      "flex_flow": null,
      "grid_area": null,
      "grid_auto_columns": null,
      "grid_auto_flow": null,
      "grid_auto_rows": null,
      "grid_column": null,
      "grid_gap": null,
      "grid_row": null,
      "grid_template_areas": null,
      "grid_template_columns": null,
      "grid_template_rows": null,
      "height": null,
      "justify_content": null,
      "justify_items": null,
      "left": null,
      "margin": null,
      "max_height": null,
      "max_width": null,
      "min_height": null,
      "min_width": null,
      "object_fit": null,
      "object_position": null,
      "order": null,
      "overflow": null,
      "overflow_x": null,
      "overflow_y": null,
      "padding": null,
      "right": null,
      "top": null,
      "visibility": null,
      "width": null
     }
    },
    "21ff012d627142099d3a6a2afceb2d00": {
     "model_module": "@jupyter-widgets/controls",
     "model_module_version": "1.5.0",
     "model_name": "HTMLModel",
     "state": {
      "_dom_classes": [],
      "_model_module": "@jupyter-widgets/controls",
      "_model_module_version": "1.5.0",
      "_model_name": "HTMLModel",
      "_view_count": null,
      "_view_module": "@jupyter-widgets/controls",
      "_view_module_version": "1.5.0",
      "_view_name": "HTMLView",
      "description": "",
      "description_tooltip": null,
      "layout": "IPY_MODEL_c483d03b772d42b4b88110b694154e4a",
      "placeholder": "​",
      "style": "IPY_MODEL_d473155df5704a4d8f943785e9fda0fb",
      "value": " 561753746/561753746 [00:06&lt;00:00, 93418408.30it/s]"
     }
    },
    "402dfc9dbb1d448d809482d9adccf0b4": {
     "model_module": "@jupyter-widgets/controls",
     "model_module_version": "1.5.0",
     "model_name": "HTMLModel",
     "state": {
      "_dom_classes": [],
      "_model_module": "@jupyter-widgets/controls",
      "_model_module_version": "1.5.0",
      "_model_name": "HTMLModel",
      "_view_count": null,
      "_view_module": "@jupyter-widgets/controls",
      "_view_module_version": "1.5.0",
      "_view_name": "HTMLView",
      "description": "",
      "description_tooltip": null,
      "layout": "IPY_MODEL_f8d1700b8b6844eb95277e7218aea2f8",
      "placeholder": "​",
      "style": "IPY_MODEL_7c5a722d2ea540c1b4b79f98b52b5c20",
      "value": "100%"
     }
    },
    "7c5a722d2ea540c1b4b79f98b52b5c20": {
     "model_module": "@jupyter-widgets/controls",
     "model_module_version": "1.5.0",
     "model_name": "DescriptionStyleModel",
     "state": {
      "_model_module": "@jupyter-widgets/controls",
      "_model_module_version": "1.5.0",
      "_model_name": "DescriptionStyleModel",
      "_view_count": null,
      "_view_module": "@jupyter-widgets/base",
      "_view_module_version": "1.2.0",
      "_view_name": "StyleView",
      "description_width": ""
     }
    },
    "9c2ebd4ea414470086e0f929ee57c8b9": {
     "model_module": "@jupyter-widgets/controls",
     "model_module_version": "1.5.0",
     "model_name": "HBoxModel",
     "state": {
      "_dom_classes": [],
      "_model_module": "@jupyter-widgets/controls",
      "_model_module_version": "1.5.0",
      "_model_name": "HBoxModel",
      "_view_count": null,
      "_view_module": "@jupyter-widgets/controls",
      "_view_module_version": "1.5.0",
      "_view_name": "HBoxView",
      "box_style": "",
      "children": [
       "IPY_MODEL_402dfc9dbb1d448d809482d9adccf0b4",
       "IPY_MODEL_daa28b9e88aa42c681d5c6935e2a7c2f",
       "IPY_MODEL_21ff012d627142099d3a6a2afceb2d00"
      ],
      "layout": "IPY_MODEL_ac47b8e6978046d298d0caae58a94922"
     }
    },
    "ac47b8e6978046d298d0caae58a94922": {
     "model_module": "@jupyter-widgets/base",
     "model_module_version": "1.2.0",
     "model_name": "LayoutModel",
     "state": {
      "_model_module": "@jupyter-widgets/base",
      "_model_module_version": "1.2.0",
      "_model_name": "LayoutModel",
      "_view_count": null,
      "_view_module": "@jupyter-widgets/base",
      "_view_module_version": "1.2.0",
      "_view_name": "LayoutView",
      "align_content": null,
      "align_items": null,
      "align_self": null,
      "border": null,
      "bottom": null,
      "display": null,
      "flex": null,
      "flex_flow": null,
      "grid_area": null,
      "grid_auto_columns": null,
      "grid_auto_flow": null,
      "grid_auto_rows": null,
      "grid_column": null,
      "grid_gap": null,
      "grid_row": null,
      "grid_template_areas": null,
      "grid_template_columns": null,
      "grid_template_rows": null,
      "height": null,
      "justify_content": null,
      "justify_items": null,
      "left": null,
      "margin": null,
      "max_height": null,
      "max_width": null,
      "min_height": null,
      "min_width": null,
      "object_fit": null,
      "object_position": null,
      "order": null,
      "overflow": null,
      "overflow_x": null,
      "overflow_y": null,
      "padding": null,
      "right": null,
      "top": null,
      "visibility": null,
      "width": null
     }
    },
    "c483d03b772d42b4b88110b694154e4a": {
     "model_module": "@jupyter-widgets/base",
     "model_module_version": "1.2.0",
     "model_name": "LayoutModel",
     "state": {
      "_model_module": "@jupyter-widgets/base",
      "_model_module_version": "1.2.0",
      "_model_name": "LayoutModel",
      "_view_count": null,
      "_view_module": "@jupyter-widgets/base",
      "_view_module_version": "1.2.0",
      "_view_name": "LayoutView",
      "align_content": null,
      "align_items": null,
      "align_self": null,
      "border": null,
      "bottom": null,
      "display": null,
      "flex": null,
      "flex_flow": null,
      "grid_area": null,
      "grid_auto_columns": null,
      "grid_auto_flow": null,
      "grid_auto_rows": null,
      "grid_column": null,
      "grid_gap": null,
      "grid_row": null,
      "grid_template_areas": null,
      "grid_template_columns": null,
      "grid_template_rows": null,
      "height": null,
      "justify_content": null,
      "justify_items": null,
      "left": null,
      "margin": null,
      "max_height": null,
      "max_width": null,
      "min_height": null,
      "min_width": null,
      "object_fit": null,
      "object_position": null,
      "order": null,
      "overflow": null,
      "overflow_x": null,
      "overflow_y": null,
      "padding": null,
      "right": null,
      "top": null,
      "visibility": null,
      "width": null
     }
    },
    "d473155df5704a4d8f943785e9fda0fb": {
     "model_module": "@jupyter-widgets/controls",
     "model_module_version": "1.5.0",
     "model_name": "DescriptionStyleModel",
     "state": {
      "_model_module": "@jupyter-widgets/controls",
      "_model_module_version": "1.5.0",
      "_model_name": "DescriptionStyleModel",
      "_view_count": null,
      "_view_module": "@jupyter-widgets/base",
      "_view_module_version": "1.2.0",
      "_view_name": "StyleView",
      "description_width": ""
     }
    },
    "daa28b9e88aa42c681d5c6935e2a7c2f": {
     "model_module": "@jupyter-widgets/controls",
     "model_module_version": "1.5.0",
     "model_name": "FloatProgressModel",
     "state": {
      "_dom_classes": [],
      "_model_module": "@jupyter-widgets/controls",
      "_model_module_version": "1.5.0",
      "_model_name": "FloatProgressModel",
      "_view_count": null,
      "_view_module": "@jupyter-widgets/controls",
      "_view_module_version": "1.5.0",
      "_view_name": "ProgressView",
      "bar_style": "success",
      "description": "",
      "description_tooltip": null,
      "layout": "IPY_MODEL_1f4cc556075347b2b9ca936e4648294b",
      "max": 561753746,
      "min": 0,
      "orientation": "horizontal",
      "style": "IPY_MODEL_04c21a9f5c0e4e699d14a50042d93eae",
      "value": 561753746
     }
    },
    "f8d1700b8b6844eb95277e7218aea2f8": {
     "model_module": "@jupyter-widgets/base",
     "model_module_version": "1.2.0",
     "model_name": "LayoutModel",
     "state": {
      "_model_module": "@jupyter-widgets/base",
      "_model_module_version": "1.2.0",
      "_model_name": "LayoutModel",
      "_view_count": null,
      "_view_module": "@jupyter-widgets/base",
      "_view_module_version": "1.2.0",
      "_view_name": "LayoutView",
      "align_content": null,
      "align_items": null,
      "align_self": null,
      "border": null,
      "bottom": null,
      "display": null,
      "flex": null,
      "flex_flow": null,
      "grid_area": null,
      "grid_auto_columns": null,
      "grid_auto_flow": null,
      "grid_auto_rows": null,
      "grid_column": null,
      "grid_gap": null,
      "grid_row": null,
      "grid_template_areas": null,
      "grid_template_columns": null,
      "grid_template_rows": null,
      "height": null,
      "justify_content": null,
      "justify_items": null,
      "left": null,
      "margin": null,
      "max_height": null,
      "max_width": null,
      "min_height": null,
      "min_width": null,
      "object_fit": null,
      "object_position": null,
      "order": null,
      "overflow": null,
      "overflow_x": null,
      "overflow_y": null,
      "padding": null,
      "right": null,
      "top": null,
      "visibility": null,
      "width": null
     }
    }
   }
  }
 },
 "nbformat": 4,
 "nbformat_minor": 1
}
